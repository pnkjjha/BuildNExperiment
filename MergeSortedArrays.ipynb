{
  "nbformat": 4,
  "nbformat_minor": 0,
  "metadata": {
    "colab": {
      "provenance": [],
      "authorship_tag": "ABX9TyPiBNBzF8stuSBRYqxW7bB4",
      "include_colab_link": true
    },
    "kernelspec": {
      "name": "python3",
      "display_name": "Python 3"
    },
    "language_info": {
      "name": "python"
    }
  },
  "cells": [
    {
      "cell_type": "markdown",
      "metadata": {
        "id": "view-in-github",
        "colab_type": "text"
      },
      "source": [
        "<a href=\"https://colab.research.google.com/github/pnkjjha/BuildNExperiment/blob/main/MergeSortedArrays.ipynb\" target=\"_parent\"><img src=\"https://colab.research.google.com/assets/colab-badge.svg\" alt=\"Open In Colab\"/></a>"
      ]
    },
    {
      "cell_type": "code",
      "execution_count": 14,
      "metadata": {
        "id": "TdMG0OcL-VI9"
      },
      "outputs": [],
      "source": [
        "firstDeck = [1,4,7,9,20,32,50]\n",
        "secondDeck = [3,10,13,15,23,28]"
      ]
    },
    {
      "cell_type": "markdown",
      "source": [
        "botomup programming 4:05"
      ],
      "metadata": {
        "id": "8Kp_kXZh_Bnp"
      }
    },
    {
      "cell_type": "code",
      "source": [
        "sortedDeck = []\n",
        "while len(firstDeck) > 0 and len(secondDeck) > 0:\n",
        "  if firstDeck[0] <= secondDeck[0]:\n",
        "    sortedDeck = sortedDeck + firstDeck[0:1]\n",
        "    del(firstDeck[0])\n",
        "  else:\n",
        "    sortedDeck = sortedDeck + secondDeck[0:1]\n",
        "    del(secondDeck[0])"
      ],
      "metadata": {
        "id": "xj9UEjnH_Y_r"
      },
      "execution_count": 15,
      "outputs": []
    },
    {
      "cell_type": "code",
      "source": [
        "if len(firstDeck) > 0:\n",
        "  sortedDeck = sortedDeck + firstDeck\n",
        "else:\n",
        "  sortedDeck = sortedDeck + secondDeck"
      ],
      "metadata": {
        "id": "X4AtdRkZC3AA"
      },
      "execution_count": 16,
      "outputs": []
    },
    {
      "cell_type": "markdown",
      "source": [
        "completed in 4:29"
      ],
      "metadata": {
        "id": "YP8txs18EpKf"
      }
    },
    {
      "cell_type": "code",
      "source": [
        "print(sortedDeck)"
      ],
      "metadata": {
        "colab": {
          "base_uri": "https://localhost:8080/"
        },
        "id": "4EtgC_ub_PD6",
        "outputId": "bdc0de4a-af4e-45c3-a35a-d042627991ed"
      },
      "execution_count": 17,
      "outputs": [
        {
          "output_type": "stream",
          "name": "stdout",
          "text": [
            "[1, 3, 4, 7, 9, 10, 13, 15, 20, 23, 28, 32, 50]\n"
          ]
        }
      ]
    }
  ]
}