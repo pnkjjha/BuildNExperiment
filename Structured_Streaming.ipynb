{
  "nbformat": 4,
  "nbformat_minor": 0,
  "metadata": {
    "colab": {
      "provenance": [],
      "authorship_tag": "ABX9TyNhWGQKGeyMti6sEl/VKjNb",
      "include_colab_link": true
    },
    "kernelspec": {
      "name": "python3",
      "display_name": "Python 3"
    },
    "language_info": {
      "name": "python"
    }
  },
  "cells": [
    {
      "cell_type": "markdown",
      "metadata": {
        "id": "view-in-github",
        "colab_type": "text"
      },
      "source": [
        "<a href=\"https://colab.research.google.com/github/pnkjjha/BuildNExperiment/blob/main/Structured_Streaming.ipynb\" target=\"_parent\"><img src=\"https://colab.research.google.com/assets/colab-badge.svg\" alt=\"Open In Colab\"/></a>"
      ]
    },
    {
      "cell_type": "code",
      "execution_count": 2,
      "metadata": {
        "colab": {
          "base_uri": "https://localhost:8080/"
        },
        "id": "Dh-8bNSmftZt",
        "outputId": "adbfc691-d611-4915-f0e3-16d3e06da238"
      },
      "outputs": [
        {
          "output_type": "stream",
          "name": "stdout",
          "text": [
            "Requirement already satisfied: pyspark[sql] in /usr/local/lib/python3.10/dist-packages (3.5.2)\n",
            "Requirement already satisfied: py4j==0.10.9.7 in /usr/local/lib/python3.10/dist-packages (from pyspark[sql]) (0.10.9.7)\n",
            "Requirement already satisfied: pandas>=1.0.5 in /usr/local/lib/python3.10/dist-packages (from pyspark[sql]) (2.1.4)\n",
            "Requirement already satisfied: pyarrow>=4.0.0 in /usr/local/lib/python3.10/dist-packages (from pyspark[sql]) (14.0.2)\n",
            "Requirement already satisfied: numpy<2,>=1.15 in /usr/local/lib/python3.10/dist-packages (from pyspark[sql]) (1.26.4)\n",
            "Requirement already satisfied: python-dateutil>=2.8.2 in /usr/local/lib/python3.10/dist-packages (from pandas>=1.0.5->pyspark[sql]) (2.8.2)\n",
            "Requirement already satisfied: pytz>=2020.1 in /usr/local/lib/python3.10/dist-packages (from pandas>=1.0.5->pyspark[sql]) (2024.2)\n",
            "Requirement already satisfied: tzdata>=2022.1 in /usr/local/lib/python3.10/dist-packages (from pandas>=1.0.5->pyspark[sql]) (2024.1)\n",
            "Requirement already satisfied: six>=1.5 in /usr/local/lib/python3.10/dist-packages (from python-dateutil>=2.8.2->pandas>=1.0.5->pyspark[sql]) (1.16.0)\n"
          ]
        }
      ],
      "source": [
        "!pip install pyspark[sql]"
      ]
    },
    {
      "cell_type": "code",
      "source": [
        "from pyspark.sql import SparkSession\n",
        "from pandas import json_normalize\n",
        "import pyspark.sql.functions as F\n",
        "import pyspark.sql.types as T\n",
        "import random\n",
        "import requests\n",
        "import json\n",
        "import os\n",
        "import pandas as pd\n",
        "import datetime"
      ],
      "metadata": {
        "id": "iytu5ZCLjr1p"
      },
      "execution_count": 2,
      "outputs": []
    },
    {
      "cell_type": "code",
      "source": [
        "# spark=SparkSession.builder.appName('test').config(\"spark.sql.shuffle.partitions\", \"4\").getOrCreate()"
      ],
      "metadata": {
        "id": "F0tM6c5lka9g"
      },
      "execution_count": null,
      "outputs": []
    },
    {
      "cell_type": "code",
      "source": [
        "spark=SparkSession.builder.appName('test').getOrCreate()"
      ],
      "metadata": {
        "id": "A0CCb3pFfBLH"
      },
      "execution_count": 3,
      "outputs": []
    },
    {
      "cell_type": "code",
      "source": [
        "# url = \"https://api.carbonintensity.org.uk/intensity\"\n",
        "\n",
        "# while switch:\n",
        "#   response = requests.get(url)\n",
        "#   json_normalize(response.json())\n",
        "#   message = response.json()\n",
        "#   json_normalize(message['data']).rename(columns={\"intensity.forecast\": \"intensity_forecast\",\\\n",
        "#                                                   \"intensity.actual\": \"intensity_actual\",\\\n",
        "#                                                   \"intensity.percentile\": \"intensity_percentile\",\\\n",
        "#                                                   \"intensity.index\": \"intensity_index\"\\\n",
        "#                                                   }).to_csv(\"intensity_\"+str(random.randint(1,10000))+\".csv\", index=False)\n"
      ],
      "metadata": {
        "id": "A0goOaF2Cj73"
      },
      "execution_count": null,
      "outputs": []
    },
    {
      "cell_type": "markdown",
      "source": [
        "#Inputfile generation"
      ],
      "metadata": {
        "id": "hSpVmSc1FuVq"
      }
    },
    {
      "cell_type": "code",
      "source": [
        "%rm -rf input\n",
        "%mkdir input"
      ],
      "metadata": {
        "id": "WT9q5udv4D0g"
      },
      "execution_count": 4,
      "outputs": []
    },
    {
      "cell_type": "code",
      "source": [
        "datetime.datetime.strftime(datetime.datetime.utcnow(),\"%Y-%m-%d %H:%M:%S\")"
      ],
      "metadata": {
        "colab": {
          "base_uri": "https://localhost:8080/",
          "height": 36
        },
        "id": "GNiuj0S8Bn6C",
        "outputId": "8ce33a98-0b17-4a23-ed22-28f807423e91"
      },
      "execution_count": null,
      "outputs": [
        {
          "output_type": "execute_result",
          "data": {
            "text/plain": [
              "'2024-09-16 06:57:36'"
            ],
            "application/vnd.google.colaboratory.intrinsic+json": {
              "type": "string"
            }
          },
          "metadata": {},
          "execution_count": 5
        }
      ]
    },
    {
      "cell_type": "code",
      "source": [
        "i = 0\n",
        "s = requests.Session()\n",
        "url = \"https://stream.wikimedia.org/v2/stream/recentchange\"\n",
        "file_number = str(random.randint(1,10000))\n",
        "with s.get(url, stream=True) as resp:\n",
        "    for line in resp.iter_lines(1024,decode_unicode=True):\n",
        "        # Check if line has some bytes in it\n",
        "        if line:\n",
        "            # convert line into json\n",
        "            # get data lines only\n",
        "            if line[:4] == \"data\":\n",
        "                # print(line[5:])\n",
        "                json_line = json.loads(line[5:])\n",
        "                flatlines = pd.json_normalize(json_line,sep=\"_\")\n",
        "                with open(\"input/rc\"+str(random.randint(1,10000))+\".json\",\"a\",encoding=\"utf-8\") as f:\n",
        "                    flatlines.to_json(f,orient=\"records\",lines=True,index=False)\n",
        "                    i = i + 1\n",
        "                    if i>=4 :\n",
        "                        break"
      ],
      "metadata": {
        "id": "Vb3_FJkfrLmt"
      },
      "execution_count": 14,
      "outputs": []
    },
    {
      "cell_type": "code",
      "source": [
        "%ls -l input | wc -l"
      ],
      "metadata": {
        "id": "IWESPbFLC_4n",
        "colab": {
          "base_uri": "https://localhost:8080/"
        },
        "outputId": "543b63ef-ef28-45c2-b4ce-a4f452f34763"
      },
      "execution_count": 6,
      "outputs": [
        {
          "output_type": "stream",
          "name": "stdout",
          "text": [
            "5\n"
          ]
        }
      ]
    },
    {
      "cell_type": "code",
      "source": [
        "# design schema here\n",
        "dSchema = T.StructType([\\\n",
        "   T.StructField(\"$Schema\", T.StringType())\\\n",
        "  ,T.StructField(\"id\", T.IntegerType())\\\n",
        "  ,T.StructField(\"type\", T.StringType())\\\n",
        "  ,T.StructField(\"namespace\", T.IntegerType())\\\n",
        "  ,T.StructField(\"title\", T.StringType())\\\n",
        "  ,T.StructField(\"title_url\", T.StringType())\\\n",
        "  ,T.StructField(\"comment\", T.StringType())\\\n",
        "  ,T.StructField(\"timestamp\", T.IntegerType())\\\n",
        "  ,T.StructField(\"user\", T.StringType())\\\n",
        "  ,T.StructField(\"bot\", T.BooleanType())\\\n",
        "  ,T.StructField(\"log_id\", T.IntegerType())\\\n",
        "  ,T.StructField(\"log_type\", T.StringType())\\\n",
        "  ,T.StructField(\"log_action\", T.StringType())\\\n",
        "  ,T.StructField(\"log_action_comment\", T.StringType())\\\n",
        "  ,T.StructField(\"server_url\", T.StringType())\\\n",
        "  ,T.StructField(\"server_name\", T.StringType())\\\n",
        "  ,T.StructField(\"server_script_path\", T.StringType())\\\n",
        "  ,T.StructField(\"wiki\", T.StringType())\\\n",
        "  ,T.StructField(\"parsedcomment\", T.StringType())\\\n",
        "  ,T.StructField(\"meta_uri\", T.StringType())\\\n",
        "  ,T.StructField(\"meta_request_id\", T.StringType())\\\n",
        "  ,T.StructField(\"meta_id\", T.StringType())\\\n",
        "  ,T.StructField(\"meta_dt\", T.TimestampType())\\\n",
        "  ,T.StructField(\"meta_domain\", T.StringType())\\\n",
        "  ,T.StructField(\"meta_stream\", T.StringType())\\\n",
        "  ,T.StructField(\"meta_topic\", T.StringType())\\\n",
        "  ,T.StructField(\"meta_partition\", T.IntegerType())\\\n",
        "  ,T.StructField(\"meta_offset\", T.IntegerType())\\\n",
        "  ,T.StructField(\"log_params_userid\", T.IntegerType())\\\n",
        "                      ])"
      ],
      "metadata": {
        "id": "WmJiMJef56cK"
      },
      "execution_count": 7,
      "outputs": []
    },
    {
      "cell_type": "code",
      "source": [
        "spark.read.load(\"input\",format=\"json\",schema=dSchema).select(\"meta_dt\",\"type\").orderBy(\"meta_dt\", ascending=False).show(15)"
      ],
      "metadata": {
        "id": "O5tsaFlBfxNQ"
      },
      "execution_count": null,
      "outputs": []
    },
    {
      "cell_type": "markdown",
      "source": [
        "# Folder clean up"
      ],
      "metadata": {
        "id": "N30rEChCFXMJ"
      }
    },
    {
      "cell_type": "code",
      "source": [
        "%rm -f input/*.json"
      ],
      "metadata": {
        "id": "jTq2_6Ah-DAG"
      },
      "execution_count": null,
      "outputs": []
    },
    {
      "cell_type": "code",
      "source": [
        "%rm -rf *check*"
      ],
      "metadata": {
        "id": "PjIrDPtB-iWf"
      },
      "execution_count": null,
      "outputs": []
    },
    {
      "cell_type": "code",
      "source": [
        "%rm -rf *output*"
      ],
      "metadata": {
        "id": "vyj0qupO58uu"
      },
      "execution_count": null,
      "outputs": []
    },
    {
      "cell_type": "markdown",
      "source": [
        "# Structured Streaming"
      ],
      "metadata": {
        "id": "EqSj76u5Bieg"
      }
    },
    {
      "cell_type": "code",
      "source": [
        "#create Dataframe representing the stream of input lines from connection to localhost:9999\n",
        "recentChange = spark.readStream.format(\"json\").schema(dSchema).load(\"input\")\n"
      ],
      "metadata": {
        "id": "Dsw8A9vlktFH"
      },
      "execution_count": 8,
      "outputs": []
    },
    {
      "cell_type": "code",
      "source": [
        "recentChange.isStreaming"
      ],
      "metadata": {
        "id": "z6ngMdH23l9w",
        "colab": {
          "base_uri": "https://localhost:8080/"
        },
        "outputId": "cf55a97a-1c0a-4939-938e-f5bc7f1c5b20"
      },
      "execution_count": 9,
      "outputs": [
        {
          "output_type": "execute_result",
          "data": {
            "text/plain": [
              "True"
            ]
          },
          "metadata": {},
          "execution_count": 9
        }
      ]
    },
    {
      "cell_type": "code",
      "source": [
        "rc_df = recentChange.withColumn(\"meta_dt\", recentChange.meta_dt.cast(T.TimestampType()))\n",
        "rc_df"
      ],
      "metadata": {
        "id": "KST1sBJO82hG"
      },
      "execution_count": null,
      "outputs": []
    },
    {
      "cell_type": "code",
      "source": [
        "partitioned_df = rc_df.withWatermark(\"meta_dt\", \"1 minute\")\\\n",
        "  .writeStream\\\n",
        "  .format(\"parquet\")\\\n",
        "  .option(\"path\", \"output\")\\\n",
        "  .option(\"checkpointLocation\", \"checkpoint_dir\")\\\n",
        "  .partitionBy(\"type\")\\\n",
        "  .start()"
      ],
      "metadata": {
        "id": "m4FdSUbJxCu6"
      },
      "execution_count": 11,
      "outputs": []
    },
    {
      "cell_type": "code",
      "source": [
        "partitioned_df.stop()"
      ],
      "metadata": {
        "id": "O89gFRBIysV3"
      },
      "execution_count": 16,
      "outputs": []
    },
    {
      "cell_type": "code",
      "source": [
        "# Assuming 'recentChange' is your streaming DataFrame\n",
        "myquery = recentChange\\\n",
        "  .withColumn(\"meta_dt\", recentChange.meta_dt.cast(T.TimestampType()))\\\n",
        "  .withWatermark(\"meta_dt\", \"1 minute\")\\\n",
        "  .groupBy(F.window(\"meta_dt\",\"1 minute\")\\\n",
        "         , \"type\")\\\n",
        "  .count()\\\n",
        "  .writeStream\\\n",
        "  .format(\"json\")\\\n",
        "  .outputMode(\"append\")\\\n",
        "  .option(\"path\", \"output\")\\\n",
        "  .option(\"checkpointLocation\", \"checkpoint_dir\")\\\n",
        "  .start()\n",
        "\n"
      ],
      "metadata": {
        "id": "iMpk9pUSOiJG"
      },
      "execution_count": null,
      "outputs": []
    },
    {
      "cell_type": "code",
      "source": [
        "# Assuming 'recentChange' is your streaming DataFrame; This cell is working without aggregation\n",
        "# myquery = recentChange\\\n",
        "#   .withColumn(\"meta_dt\", recentChange.meta_dt.cast(T.TimestampType()))\\\n",
        "#   .writeStream\\\n",
        "#   .format(\"csv\")\\\n",
        "#   .outputMode(\"append\")\\\n",
        "#   .option(\"path\", \"output\")\\\n",
        "#   .option(\"header\",\"true\")\\\n",
        "#   .option(\"checkpointLocation\", \"checkpoint_dir\")\\\n",
        "#   .start()"
      ],
      "metadata": {
        "id": "Ifxf46UQ_3ee"
      },
      "execution_count": null,
      "outputs": []
    },
    {
      "cell_type": "code",
      "source": [
        "%ls -lrt output"
      ],
      "metadata": {
        "id": "Ots1IUvu-8P7"
      },
      "execution_count": null,
      "outputs": []
    },
    {
      "cell_type": "code",
      "source": [
        "myquery.stop()"
      ],
      "metadata": {
        "id": "Hc6btCw3kOoG"
      },
      "execution_count": null,
      "outputs": []
    },
    {
      "cell_type": "code",
      "source": [
        "inmemoryQuery = recentChange\\\n",
        "  .withColumn(\"meta_dt\", recentChange.meta_dt.cast(T.TimestampType()))\\\n",
        "  .groupBy(F.window(\"meta_dt\",\"1 minute\"), \"type\")\\\n",
        "  .count()\\\n",
        "  .writeStream\\\n",
        "  .queryName(\"myquery\")\\\n",
        "  .format(\"memory\")\\\n",
        "  .outputMode(\"complete\")\\\n",
        "  .start()"
      ],
      "metadata": {
        "id": "ETsu-DJmOyRv"
      },
      "execution_count": null,
      "outputs": []
    },
    {
      "cell_type": "code",
      "source": [
        "spark.sql(\"select * from myquery order by type\").show(truncate=False)"
      ],
      "metadata": {
        "id": "bw9804hHQiBj"
      },
      "execution_count": null,
      "outputs": []
    },
    {
      "cell_type": "code",
      "source": [
        "inmemoryQuery.stop()"
      ],
      "metadata": {
        "id": "3rYeooV7WG_5"
      },
      "execution_count": null,
      "outputs": []
    },
    {
      "cell_type": "code",
      "source": [
        "%ls -lr input"
      ],
      "metadata": {
        "id": "z8wLp1XYJNN5"
      },
      "execution_count": null,
      "outputs": []
    },
    {
      "cell_type": "code",
      "source": [
        "table_query = rc_df.writeStream\\\n",
        "  .format(\"parquet\")\\\n",
        "  .option(\"checkpointLocation\", \"checkpoint_dir_parquet\")\\\n",
        "  .toTable(\"rc_table\")"
      ],
      "metadata": {
        "id": "xlX4qb1QoYog"
      },
      "execution_count": null,
      "outputs": []
    },
    {
      "cell_type": "code",
      "source": [
        "spark.sql(\"select * from rc_table\").show()"
      ],
      "metadata": {
        "id": "M_MFLP-QpUOP"
      },
      "execution_count": null,
      "outputs": []
    },
    {
      "cell_type": "code",
      "source": [
        "table_query.stop()"
      ],
      "metadata": {
        "id": "YR4F6P8Ip5iY"
      },
      "execution_count": null,
      "outputs": []
    },
    {
      "cell_type": "code",
      "source": [
        "table_agg_query = rc_df\\\n",
        "  .withWatermark(\"meta_dt\", \"1 minute\")\\\n",
        "  .groupBy(F.window(\"meta_dt\",\"1 minute\")\\\n",
        "         , \"type\")\\\n",
        "  .count()\\\n",
        "  .writeStream\\\n",
        "  .format(\"parquet\")\\\n",
        "  .option(\"checkpointLocation\", \"checkpoint_dir_table_agg)\")\\\n",
        "  .toTable(\"rc_table_agg\")"
      ],
      "metadata": {
        "id": "sOq-8kQcq9C9"
      },
      "execution_count": null,
      "outputs": []
    },
    {
      "cell_type": "code",
      "source": [
        "spark.sql(\"select window.start, type,count from rc_table_agg\").show(truncate=False)"
      ],
      "metadata": {
        "id": "RhpKv2U1rnZX"
      },
      "execution_count": null,
      "outputs": []
    },
    {
      "cell_type": "code",
      "source": [
        "table_agg_query.stop()"
      ],
      "metadata": {
        "id": "Kjr6z0A9twUF"
      },
      "execution_count": null,
      "outputs": []
    },
    {
      "cell_type": "markdown",
      "source": [
        "# Steps to normalize\n",
        "- define schema with datatype as StringType\n",
        "- read Json with the schema and select leaf nodes parent.child1.child2\n",
        "- use this dataframe to cast and explode.\n",
        "\n",
        "However, it is not dynamic and cannot handle unexpected nesting"
      ],
      "metadata": {
        "id": "oEMH_QM_rwNk"
      }
    },
    {
      "cell_type": "code",
      "source": [
        "intensity_schema = T.StructType([\\\n",
        "   T.StructField(\"from\", T.StringType())\\\n",
        "  ,T.StructField(\"to\", T.StringType())\\\n",
        "  ,T.StructField(\"intensity\", T.StructType([\n",
        "      T.StructField(\"forecast\", T.StringType())\\\n",
        "     ,T.StructField(\"actual\", T.StringType())\\\n",
        "     ,T.StructField(\"index\", T.StringType())]))\\\n",
        "                    ])"
      ],
      "metadata": {
        "id": "tzoBFlJPl6XB"
      },
      "execution_count": null,
      "outputs": []
    },
    {
      "cell_type": "code",
      "source": [
        "intensity_df = spark.read.load(\".\",format=\"json\",schema=intensity_schema).select(\"from\",\"intensity.forecast\")"
      ],
      "metadata": {
        "id": "Serjq4WxoRda"
      },
      "execution_count": null,
      "outputs": []
    },
    {
      "cell_type": "code",
      "source": [
        "intensity_df.show(truncate=False)"
      ],
      "metadata": {
        "colab": {
          "base_uri": "https://localhost:8080/"
        },
        "id": "f00y-A40oj2f",
        "outputId": "efa161b8-0d62-472a-a719-42c4f81598ce"
      },
      "execution_count": null,
      "outputs": [
        {
          "output_type": "stream",
          "name": "stdout",
          "text": [
            "+-----------------+--------+\n",
            "|from             |forecast|\n",
            "+-----------------+--------+\n",
            "|2024-09-16T10:30Z|147     |\n",
            "+-----------------+--------+\n",
            "\n"
          ]
        }
      ]
    },
    {
      "cell_type": "markdown",
      "source": [
        "#Testing"
      ],
      "metadata": {
        "id": "D_qDbv_V5Bk-"
      }
    },
    {
      "cell_type": "code",
      "source": [
        "rate_df = spark.readStream.format(\"rate\").option(\"rowsPerSecond\", 100).load()"
      ],
      "metadata": {
        "id": "1mPuy8MI5FqF"
      },
      "execution_count": null,
      "outputs": []
    },
    {
      "cell_type": "code",
      "source": [
        "rate_df.printSchema()"
      ],
      "metadata": {
        "id": "3PnTx76c5yxu"
      },
      "execution_count": null,
      "outputs": []
    },
    {
      "cell_type": "code",
      "source": [
        "rate_df.writeStream.format(\"memory\").queryName(\"query_name\").outputMode(\"append\").start()"
      ],
      "metadata": {
        "id": "JCnz7Bwe5_wW"
      },
      "execution_count": null,
      "outputs": []
    },
    {
      "cell_type": "code",
      "source": [
        "spark.sql(\"select * from query_name\").show(truncate=False)"
      ],
      "metadata": {
        "id": "j69J9MyY6g8T"
      },
      "execution_count": null,
      "outputs": []
    },
    {
      "cell_type": "code",
      "source": [
        "json_rate_df=rate_df.withWatermark(\"timestamp\", \"5 minutes\")\\\n",
        ".groupBy(F.window(\"timestamp\",\"1 minutes\"))\\\n",
        ".count()\\\n",
        ".writeStream.format(\"json\").option(\"path\", \"json_output\").option(\"checkpointLocation\", \"checkpoint_dir_json\")\\\n",
        ".trigger(processingTime=\"3 minutes\")\\\n",
        ".start()"
      ],
      "metadata": {
        "id": "xejhQhI368-O"
      },
      "execution_count": null,
      "outputs": []
    },
    {
      "cell_type": "code",
      "source": [
        "datetime.datetime.strftime(datetime.datetime.utcnow(),\"%Y-%m-%d %H:%M:%S\")"
      ],
      "metadata": {
        "colab": {
          "base_uri": "https://localhost:8080/",
          "height": 36
        },
        "id": "VZB54Xn6UUgu",
        "outputId": "08837915-f5f7-49a0-950d-967fbc4e9e3f"
      },
      "execution_count": null,
      "outputs": [
        {
          "output_type": "execute_result",
          "data": {
            "text/plain": [
              "'2024-09-11 15:05:24'"
            ],
            "application/vnd.google.colaboratory.intrinsic+json": {
              "type": "string"
            }
          },
          "metadata": {},
          "execution_count": 191
        }
      ]
    },
    {
      "cell_type": "code",
      "source": [
        "%ls --full-time -lrt  json_output"
      ],
      "metadata": {
        "id": "VLwHdrqC8a40"
      },
      "execution_count": null,
      "outputs": []
    },
    {
      "cell_type": "code",
      "source": [
        "json_rate_df.stop()"
      ],
      "metadata": {
        "id": "XiEVeMTG8uB9"
      },
      "execution_count": null,
      "outputs": []
    }
  ]
}