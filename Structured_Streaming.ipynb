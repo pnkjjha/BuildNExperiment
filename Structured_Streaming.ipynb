{
  "nbformat": 4,
  "nbformat_minor": 0,
  "metadata": {
    "colab": {
      "provenance": [],
      "authorship_tag": "ABX9TyOXlGXpfjcrSyFIDRF7wCcn",
      "include_colab_link": true
    },
    "kernelspec": {
      "name": "python3",
      "display_name": "Python 3"
    },
    "language_info": {
      "name": "python"
    }
  },
  "cells": [
    {
      "cell_type": "markdown",
      "metadata": {
        "id": "view-in-github",
        "colab_type": "text"
      },
      "source": [
        "<a href=\"https://colab.research.google.com/github/pnkjjha/BuildNExperiment/blob/main/Structured_Streaming.ipynb\" target=\"_parent\"><img src=\"https://colab.research.google.com/assets/colab-badge.svg\" alt=\"Open In Colab\"/></a>"
      ]
    },
    {
      "cell_type": "code",
      "execution_count": 1,
      "metadata": {
        "colab": {
          "base_uri": "https://localhost:8080/"
        },
        "id": "Dh-8bNSmftZt",
        "outputId": "63571300-24c9-4a76-fb8d-30fc1bc42e9a"
      },
      "outputs": [
        {
          "output_type": "stream",
          "name": "stdout",
          "text": [
            "Collecting pyspark\n",
            "  Downloading pyspark-3.5.2.tar.gz (317.3 MB)\n",
            "\u001b[2K     \u001b[90m━━━━━━━━━━━━━━━━━━━━━━━━━━━━━━━━━━━━━━━━\u001b[0m \u001b[32m317.3/317.3 MB\u001b[0m \u001b[31m4.5 MB/s\u001b[0m eta \u001b[36m0:00:00\u001b[0m\n",
            "\u001b[?25h  Preparing metadata (setup.py) ... \u001b[?25l\u001b[?25hdone\n",
            "Requirement already satisfied: py4j==0.10.9.7 in /usr/local/lib/python3.10/dist-packages (from pyspark) (0.10.9.7)\n",
            "Building wheels for collected packages: pyspark\n",
            "  Building wheel for pyspark (setup.py) ... \u001b[?25l\u001b[?25hdone\n",
            "  Created wheel for pyspark: filename=pyspark-3.5.2-py2.py3-none-any.whl size=317812365 sha256=143d725f1ac0a3245103b8fe82634bcbdf6669df3220833f2a1324195850bb40\n",
            "  Stored in directory: /root/.cache/pip/wheels/34/34/bd/03944534c44b677cd5859f248090daa9fb27b3c8f8e5f49574\n",
            "Successfully built pyspark\n",
            "Installing collected packages: pyspark\n",
            "Successfully installed pyspark-3.5.2\n"
          ]
        }
      ],
      "source": [
        "!pip install pyspark"
      ]
    },
    {
      "cell_type": "code",
      "source": [
        "from pyspark.sql import SparkSession\n",
        "from pandas import json_normalize\n",
        "import pyspark.sql.functions as F\n",
        "import pyspark.sql.types as T\n",
        "import random\n",
        "import requests\n",
        "import json\n",
        "import os\n",
        "import pandas as pd\n",
        "import datetime"
      ],
      "metadata": {
        "id": "iytu5ZCLjr1p"
      },
      "execution_count": 2,
      "outputs": []
    },
    {
      "cell_type": "code",
      "source": [
        "spark=SparkSession.builder.appName('test').getOrCreate()"
      ],
      "metadata": {
        "id": "F0tM6c5lka9g"
      },
      "execution_count": 3,
      "outputs": []
    },
    {
      "cell_type": "code",
      "source": [
        "# url = \"https://api.carbonintensity.org.uk/intensity\"\n",
        "\n",
        "# while switch:\n",
        "#   response = requests.get(url)\n",
        "#   json_normalize(response.json())\n",
        "#   message = response.json()\n",
        "#   json_normalize(message['data']).rename(columns={\"intensity.forecast\": \"intensity_forecast\",\\\n",
        "#                                                   \"intensity.actual\": \"intensity_actual\",\\\n",
        "#                                                   \"intensity.percentile\": \"intensity_percentile\",\\\n",
        "#                                                   \"intensity.index\": \"intensity_index\"\\\n",
        "#                                                   }).to_csv(\"intensity_\"+str(random.randint(1,10000))+\".csv\", index=False)\n"
      ],
      "metadata": {
        "id": "A0goOaF2Cj73"
      },
      "execution_count": null,
      "outputs": []
    },
    {
      "cell_type": "code",
      "source": [
        "# read lines from file\n",
        "def flat_json(line):\n",
        "  # convert line into json\n",
        "  line_json = json.loads(line)\n",
        "# json normalize\n",
        "  flatline = pd.json_normalize(line_json,sep=\"_\")\n",
        "  return flatline\n"
      ],
      "metadata": {
        "id": "KZWBwUmFzf6k"
      },
      "execution_count": 4,
      "outputs": []
    },
    {
      "cell_type": "markdown",
      "source": [
        "#Inputfile generation"
      ],
      "metadata": {
        "id": "hSpVmSc1FuVq"
      }
    },
    {
      "cell_type": "code",
      "source": [
        "%rm -rf input\n",
        "%mkdir input"
      ],
      "metadata": {
        "id": "WT9q5udv4D0g"
      },
      "execution_count": 4,
      "outputs": []
    },
    {
      "cell_type": "code",
      "source": [
        "datetime.datetime.strftime(datetime.datetime.utcnow(),\"%Y-%m-%d %H:%M:%S\")"
      ],
      "metadata": {
        "colab": {
          "base_uri": "https://localhost:8080/",
          "height": 36
        },
        "id": "GNiuj0S8Bn6C",
        "outputId": "b2026a3c-081a-4848-8f1a-dc1a4e2cfe2c"
      },
      "execution_count": 5,
      "outputs": [
        {
          "output_type": "execute_result",
          "data": {
            "text/plain": [
              "'2024-09-11 10:47:15'"
            ],
            "application/vnd.google.colaboratory.intrinsic+json": {
              "type": "string"
            }
          },
          "metadata": {},
          "execution_count": 5
        }
      ]
    },
    {
      "cell_type": "code",
      "source": [
        "i = 0\n",
        "s = requests.Session()\n",
        "url = \"https://stream.wikimedia.org/v2/stream/recentchange\"\n",
        "file_number = str(random.randint(1,10000))\n",
        "with s.get(url, stream=True) as resp:\n",
        "    for line in resp.iter_lines(1024,decode_unicode=True):\n",
        "        # Check if line has some bytes in it\n",
        "        if line:\n",
        "            # convert line into json\n",
        "            # get data lines only\n",
        "            if line[:4] == \"data\":\n",
        "                # print(line[5:])\n",
        "                json_line = json.loads(line[5:])\n",
        "                flatlines = pd.json_normalize(json_line,sep=\"_\")\n",
        "                with open(\"input/rc\"+str(random.randint(1,10000))+\".json\",\"a\",encoding=\"utf-8\") as f:\n",
        "                    flatlines.to_json(f,orient=\"records\",lines=True,index=False)\n",
        "                    i = i + 1\n",
        "                    if i>=4 :\n",
        "                        break"
      ],
      "metadata": {
        "id": "Vb3_FJkfrLmt"
      },
      "execution_count": 65,
      "outputs": []
    },
    {
      "cell_type": "code",
      "source": [
        "%ls -l input | wc -l"
      ],
      "metadata": {
        "colab": {
          "base_uri": "https://localhost:8080/"
        },
        "id": "IWESPbFLC_4n",
        "outputId": "4427008e-61ad-4786-9753-c29f6ddf46ba"
      },
      "execution_count": null,
      "outputs": [
        {
          "output_type": "stream",
          "name": "stdout",
          "text": [
            "2\n"
          ]
        }
      ]
    },
    {
      "cell_type": "code",
      "source": [
        "flat_json_pdf[\"meta_dt\"].head(2)"
      ],
      "metadata": {
        "id": "YC4KnaEU1INX",
        "colab": {
          "base_uri": "https://localhost:8080/",
          "height": 115
        },
        "outputId": "c7c027ff-acb3-4ea1-f3ab-23f5c1e4029e"
      },
      "execution_count": null,
      "outputs": [
        {
          "output_type": "execute_result",
          "data": {
            "text/plain": [
              "0    2024-09-10T06:37:03Z\n",
              "Name: meta_dt, dtype: object"
            ],
            "text/html": [
              "<div>\n",
              "<style scoped>\n",
              "    .dataframe tbody tr th:only-of-type {\n",
              "        vertical-align: middle;\n",
              "    }\n",
              "\n",
              "    .dataframe tbody tr th {\n",
              "        vertical-align: top;\n",
              "    }\n",
              "\n",
              "    .dataframe thead th {\n",
              "        text-align: right;\n",
              "    }\n",
              "</style>\n",
              "<table border=\"1\" class=\"dataframe\">\n",
              "  <thead>\n",
              "    <tr style=\"text-align: right;\">\n",
              "      <th></th>\n",
              "      <th>meta_dt</th>\n",
              "    </tr>\n",
              "  </thead>\n",
              "  <tbody>\n",
              "    <tr>\n",
              "      <th>0</th>\n",
              "      <td>2024-09-10T06:37:03Z</td>\n",
              "    </tr>\n",
              "  </tbody>\n",
              "</table>\n",
              "</div><br><label><b>dtype:</b> object</label>"
            ]
          },
          "metadata": {},
          "execution_count": 8
        }
      ]
    },
    {
      "cell_type": "code",
      "source": [
        "# design schema here\n",
        "dSchema = T.StructType([\\\n",
        "   T.StructField(\"$Schema\", T.StringType())\\\n",
        "  ,T.StructField(\"id\", T.IntegerType())\\\n",
        "  ,T.StructField(\"type\", T.StringType())\\\n",
        "  ,T.StructField(\"namespace\", T.IntegerType())\\\n",
        "  ,T.StructField(\"title\", T.StringType())\\\n",
        "  ,T.StructField(\"title_url\", T.StringType())\\\n",
        "  ,T.StructField(\"comment\", T.StringType())\\\n",
        "  ,T.StructField(\"timestamp\", T.IntegerType())\\\n",
        "  ,T.StructField(\"user\", T.StringType())\\\n",
        "  ,T.StructField(\"bot\", T.BooleanType())\\\n",
        "  ,T.StructField(\"log_id\", T.IntegerType())\\\n",
        "  ,T.StructField(\"log_type\", T.StringType())\\\n",
        "  ,T.StructField(\"log_action\", T.StringType())\\\n",
        "  ,T.StructField(\"log_action_comment\", T.StringType())\\\n",
        "  ,T.StructField(\"server_url\", T.StringType())\\\n",
        "  ,T.StructField(\"server_name\", T.StringType())\\\n",
        "  ,T.StructField(\"server_script_path\", T.StringType())\\\n",
        "  ,T.StructField(\"wiki\", T.StringType())\\\n",
        "  ,T.StructField(\"parsedcomment\", T.StringType())\\\n",
        "  ,T.StructField(\"meta_uri\", T.StringType())\\\n",
        "  ,T.StructField(\"meta_request_id\", T.StringType())\\\n",
        "  ,T.StructField(\"meta_id\", T.StringType())\\\n",
        "  ,T.StructField(\"meta_dt\", T.TimestampType())\\\n",
        "  ,T.StructField(\"meta_domain\", T.StringType())\\\n",
        "  ,T.StructField(\"meta_stream\", T.StringType())\\\n",
        "  ,T.StructField(\"meta_topic\", T.StringType())\\\n",
        "  ,T.StructField(\"meta_partition\", T.IntegerType())\\\n",
        "  ,T.StructField(\"meta_offset\", T.IntegerType())\\\n",
        "  ,T.StructField(\"log_params_userid\", T.IntegerType())\\\n",
        "                      ])"
      ],
      "metadata": {
        "id": "WmJiMJef56cK"
      },
      "execution_count": 7,
      "outputs": []
    },
    {
      "cell_type": "markdown",
      "source": [
        "# Folder clean up"
      ],
      "metadata": {
        "id": "N30rEChCFXMJ"
      }
    },
    {
      "cell_type": "code",
      "source": [
        "%rm -f input/*.json"
      ],
      "metadata": {
        "id": "jTq2_6Ah-DAG"
      },
      "execution_count": 55,
      "outputs": []
    },
    {
      "cell_type": "code",
      "source": [
        "%rm -rf *check*"
      ],
      "metadata": {
        "id": "PjIrDPtB-iWf"
      },
      "execution_count": null,
      "outputs": []
    },
    {
      "cell_type": "code",
      "source": [
        "%rm -rf output"
      ],
      "metadata": {
        "id": "vyj0qupO58uu"
      },
      "execution_count": null,
      "outputs": []
    },
    {
      "cell_type": "code",
      "source": [
        "static_df= spark.read.load(\"input/recentChanges1612.json\",format=\"json\",schema=dSchema)"
      ],
      "metadata": {
        "id": "zwXVjOQUx9GQ"
      },
      "execution_count": null,
      "outputs": []
    },
    {
      "cell_type": "code",
      "source": [
        "static_df.select(\"meta_dt\").show(15)"
      ],
      "metadata": {
        "id": "OKvaFPb3q75_"
      },
      "execution_count": null,
      "outputs": []
    },
    {
      "cell_type": "code",
      "source": [
        "static_df.dtypes"
      ],
      "metadata": {
        "id": "RcrLTtfqU8GE",
        "colab": {
          "base_uri": "https://localhost:8080/"
        },
        "outputId": "e809df76-f52d-43c8-cefb-78dd5dbe95c0",
        "collapsed": true
      },
      "execution_count": null,
      "outputs": [
        {
          "output_type": "execute_result",
          "data": {
            "text/plain": [
              "[('$Schema', 'string'),\n",
              " ('id', 'int'),\n",
              " ('type', 'string'),\n",
              " ('namespace', 'int'),\n",
              " ('title', 'string'),\n",
              " ('title_url', 'string'),\n",
              " ('comment', 'string'),\n",
              " ('timestamp', 'int'),\n",
              " ('user', 'string'),\n",
              " ('bot', 'boolean'),\n",
              " ('log_id', 'int'),\n",
              " ('log_type', 'string'),\n",
              " ('log_action', 'string'),\n",
              " ('log_action_comment', 'string'),\n",
              " ('server_url', 'string'),\n",
              " ('server_name', 'string'),\n",
              " ('server_script_path', 'string'),\n",
              " ('wiki', 'string'),\n",
              " ('parsedcomment', 'string'),\n",
              " ('meta_uri', 'string'),\n",
              " ('meta_request_id', 'string'),\n",
              " ('meta_id', 'string'),\n",
              " ('meta_dt', 'timestamp'),\n",
              " ('meta_domain', 'string'),\n",
              " ('meta_stream', 'string'),\n",
              " ('meta_topic', 'string'),\n",
              " ('meta_partition', 'int'),\n",
              " ('meta_offset', 'int'),\n",
              " ('log_params_userid', 'int')]"
            ]
          },
          "metadata": {},
          "execution_count": 194
        }
      ]
    },
    {
      "cell_type": "markdown",
      "source": [
        "# Structured Streaming"
      ],
      "metadata": {
        "id": "EqSj76u5Bieg"
      }
    },
    {
      "cell_type": "code",
      "source": [
        "#create Dataframe representing the stream of input lines from connection to localhost:9999\n",
        "recentChange = spark.readStream.format(\"json\").schema(dSchema).load(\"input\")\n"
      ],
      "metadata": {
        "id": "Dsw8A9vlktFH"
      },
      "execution_count": 8,
      "outputs": []
    },
    {
      "cell_type": "code",
      "source": [
        "recentChange.isStreaming"
      ],
      "metadata": {
        "id": "z6ngMdH23l9w",
        "colab": {
          "base_uri": "https://localhost:8080/"
        },
        "outputId": "2a89ae22-558b-447e-e590-2b7b20e31a2f"
      },
      "execution_count": 9,
      "outputs": [
        {
          "output_type": "execute_result",
          "data": {
            "text/plain": [
              "True"
            ]
          },
          "metadata": {},
          "execution_count": 9
        }
      ]
    },
    {
      "cell_type": "code",
      "source": [
        "rc_df = recentChange.withColumn(\"meta_dt\", recentChange.meta_dt.cast(T.TimestampType()))\n",
        "rc_df"
      ],
      "metadata": {
        "colab": {
          "base_uri": "https://localhost:8080/"
        },
        "id": "KST1sBJO82hG",
        "outputId": "caf28fc5-997b-4a1a-8d08-5c1bd6fbb855"
      },
      "execution_count": null,
      "outputs": [
        {
          "output_type": "execute_result",
          "data": {
            "text/plain": [
              "DataFrame[$Schema: string, id: int, type: string, namespace: int, title: string, title_url: string, comment: string, timestamp: int, user: string, bot: boolean, log_id: int, log_type: string, log_action: string, log_action_comment: string, server_url: string, server_name: string, server_script_path: string, wiki: string, parsedcomment: string, meta_uri: string, meta_request_id: string, meta_id: string, meta_dt: timestamp, meta_domain: string, meta_stream: string, meta_topic: string, meta_partition: int, meta_offset: int, log_params_userid: int]"
            ]
          },
          "metadata": {},
          "execution_count": 83
        }
      ]
    },
    {
      "cell_type": "code",
      "source": [
        "# Assuming 'recentChange' is your streaming DataFrame\n",
        "myquery = recentChange\\\n",
        "  .withColumn(\"meta_dt\", recentChange.meta_dt.cast(T.TimestampType()))\\\n",
        "  .withWatermark(\"meta_dt\", \"20 minutes\")\\\n",
        "  .groupBy(F.window(\"meta_dt\",\"10 seconds\")\\\n",
        "         , \"type\")\\\n",
        "  .count()\\\n",
        "  .writeStream\\\n",
        "  .format(\"csv\")\\\n",
        "  .outputMode(\"append\")\\\n",
        "  .option(\"path\", \"output\")\\\n",
        "  .option(\"header\",\"true\")\\\n",
        "  .option(\"checkpointLocation\", \"checkpoint_dir\")\\\n",
        "  .start()\n",
        "\n"
      ],
      "metadata": {
        "id": "iMpk9pUSOiJG"
      },
      "execution_count": 67,
      "outputs": []
    },
    {
      "cell_type": "code",
      "source": [
        "myquery.stop()"
      ],
      "metadata": {
        "id": "Hc6btCw3kOoG"
      },
      "execution_count": null,
      "outputs": []
    },
    {
      "cell_type": "code",
      "source": [
        "inmemoryQuery = recentChange\\\n",
        "  .withColumn(\"meta_dt\", recentChange.meta_dt.cast(T.TimestampType()))\\\n",
        "  .groupBy(F.window(\"meta_dt\",\"1 minutes\"), \"type\")\\\n",
        "  .count()\\\n",
        "  .writeStream\\\n",
        "  .queryName(\"myquery\")\\\n",
        "  .format(\"memory\")\\\n",
        "  .outputMode(\"complete\")\\\n",
        "  .start()"
      ],
      "metadata": {
        "id": "ETsu-DJmOyRv"
      },
      "execution_count": null,
      "outputs": []
    },
    {
      "cell_type": "code",
      "source": [
        "spark.sql(\"select * from myquery order by type\").show(truncate=False)"
      ],
      "metadata": {
        "colab": {
          "base_uri": "https://localhost:8080/"
        },
        "id": "bw9804hHQiBj",
        "outputId": "36e09e5e-80ac-42da-8bc8-dbbcc6b607d5"
      },
      "execution_count": 66,
      "outputs": [
        {
          "output_type": "stream",
          "name": "stdout",
          "text": [
            "+------------------------------------------+----------+-----+\n",
            "|window                                    |type      |count|\n",
            "+------------------------------------------+----------+-----+\n",
            "|{2024-09-11 11:27:00, 2024-09-11 11:28:00}|categorize|2    |\n",
            "|{2024-09-11 11:29:00, 2024-09-11 11:30:00}|categorize|1    |\n",
            "|{2024-09-11 11:27:00, 2024-09-11 11:28:00}|edit      |1    |\n",
            "|{2024-09-11 11:28:00, 2024-09-11 11:29:00}|edit      |4    |\n",
            "|{2024-09-11 11:29:00, 2024-09-11 11:30:00}|edit      |3    |\n",
            "|{2024-09-11 11:27:00, 2024-09-11 11:28:00}|new       |1    |\n",
            "+------------------------------------------+----------+-----+\n",
            "\n"
          ]
        }
      ]
    },
    {
      "cell_type": "code",
      "source": [
        "inmemoryQuery.stop()"
      ],
      "metadata": {
        "id": "3rYeooV7WG_5"
      },
      "execution_count": 56,
      "outputs": []
    },
    {
      "cell_type": "code",
      "source": [
        "%ls -lr input"
      ],
      "metadata": {
        "id": "z8wLp1XYJNN5"
      },
      "execution_count": null,
      "outputs": []
    }
  ]
}