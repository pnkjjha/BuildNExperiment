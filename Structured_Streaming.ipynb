{
  "nbformat": 4,
  "nbformat_minor": 0,
  "metadata": {
    "colab": {
      "provenance": [],
      "authorship_tag": "ABX9TyM3ssoiq4Y5l5zMPuLRhAcP",
      "include_colab_link": true
    },
    "kernelspec": {
      "name": "python3",
      "display_name": "Python 3"
    },
    "language_info": {
      "name": "python"
    }
  },
  "cells": [
    {
      "cell_type": "markdown",
      "metadata": {
        "id": "view-in-github",
        "colab_type": "text"
      },
      "source": [
        "<a href=\"https://colab.research.google.com/github/pnkjjha/BuildNExperiment/blob/main/Structured_Streaming.ipynb\" target=\"_parent\"><img src=\"https://colab.research.google.com/assets/colab-badge.svg\" alt=\"Open In Colab\"/></a>"
      ]
    },
    {
      "cell_type": "code",
      "execution_count": 152,
      "metadata": {
        "colab": {
          "base_uri": "https://localhost:8080/"
        },
        "id": "Dh-8bNSmftZt",
        "outputId": "f7eb3b64-060d-4768-ed5f-9fd3f88a5e93"
      },
      "outputs": [
        {
          "output_type": "stream",
          "name": "stdout",
          "text": [
            "Requirement already satisfied: pyspark in /usr/local/lib/python3.10/dist-packages (3.5.2)\n",
            "Requirement already satisfied: py4j==0.10.9.7 in /usr/local/lib/python3.10/dist-packages (from pyspark) (0.10.9.7)\n"
          ]
        }
      ],
      "source": [
        "!pip install pyspark"
      ]
    },
    {
      "cell_type": "code",
      "source": [
        "from pyspark.sql import SparkSession\n",
        "from pandas import json_normalize\n",
        "import pyspark.sql.functions as F\n",
        "import pyspark.sql.types as T\n",
        "import random\n",
        "import requests\n",
        "import json\n",
        "import os\n",
        "import pandas as pd\n",
        "import datetime"
      ],
      "metadata": {
        "id": "iytu5ZCLjr1p"
      },
      "execution_count": 200,
      "outputs": []
    },
    {
      "cell_type": "code",
      "source": [
        "spark=SparkSession.builder.appName('test').getOrCreate()"
      ],
      "metadata": {
        "id": "F0tM6c5lka9g"
      },
      "execution_count": 189,
      "outputs": []
    },
    {
      "cell_type": "code",
      "source": [
        "# url = \"https://api.carbonintensity.org.uk/intensity\"\n",
        "\n",
        "# while switch:\n",
        "#   response = requests.get(url)\n",
        "#   json_normalize(response.json())\n",
        "#   message = response.json()\n",
        "#   json_normalize(message['data']).rename(columns={\"intensity.forecast\": \"intensity_forecast\",\\\n",
        "#                                                   \"intensity.actual\": \"intensity_actual\",\\\n",
        "#                                                   \"intensity.percentile\": \"intensity_percentile\",\\\n",
        "#                                                   \"intensity.index\": \"intensity_index\"\\\n",
        "#                                                   }).to_csv(\"intensity_\"+str(random.randint(1,10000))+\".csv\", index=False)\n"
      ],
      "metadata": {
        "id": "A0goOaF2Cj73"
      },
      "execution_count": 155,
      "outputs": []
    },
    {
      "cell_type": "code",
      "source": [
        "# read lines from file\n",
        "def flat_json(line):\n",
        "  # convert line into json\n",
        "  line_json = json.loads(line)\n",
        "# json normalize\n",
        "  flatline = pd.json_normalize(line_json,sep=\"_\")\n",
        "  return flatline\n"
      ],
      "metadata": {
        "id": "KZWBwUmFzf6k"
      },
      "execution_count": 190,
      "outputs": []
    },
    {
      "cell_type": "markdown",
      "source": [
        "#Inputfile generation"
      ],
      "metadata": {
        "id": "hSpVmSc1FuVq"
      }
    },
    {
      "cell_type": "code",
      "source": [
        "%rm -rf input\n",
        "%mkdir input"
      ],
      "metadata": {
        "id": "WT9q5udv4D0g"
      },
      "execution_count": 185,
      "outputs": []
    },
    {
      "cell_type": "code",
      "source": [
        "datetime.datetime.strftime(datetime.datetime.utcnow(),\"%Y-%m-%d %H:%M:%S\")"
      ],
      "metadata": {
        "colab": {
          "base_uri": "https://localhost:8080/",
          "height": 36
        },
        "id": "GNiuj0S8Bn6C",
        "outputId": "e579f9c1-b117-4dee-97df-a2eab3081ca8"
      },
      "execution_count": 208,
      "outputs": [
        {
          "output_type": "execute_result",
          "data": {
            "text/plain": [
              "'2024-09-09 09:12:10'"
            ],
            "application/vnd.google.colaboratory.intrinsic+json": {
              "type": "string"
            }
          },
          "metadata": {},
          "execution_count": 208
        }
      ]
    },
    {
      "cell_type": "code",
      "source": [
        "s = requests.Session()\n",
        "\n",
        "i = 0\n",
        "url = \"https://stream.wikimedia.org/v2/stream/recentchange\"\n",
        "with s.get(url, stream=True) as resp:\n",
        "  for line in resp.iter_lines(1024,decode_unicode=True):\n",
        "    # Check if line has some bytes in it\n",
        "    if line:\n",
        "      # convert line into json\n",
        "      # get data lines only\n",
        "      if line[:4] == \"data\":\n",
        "          # print(json.loads(line[5:]))\n",
        "          with open(\"./input/recentChanges\"+str(random.randint(1,10000))+\".json\",\"a\",encoding=\"utf-8\") as f:\n",
        "              flat_json_pdf = flat_json(line[5:])\n",
        "              # flat_json_pdf[\"meta_dt\"] = pd.to_datetime(flat_json_pdf[\"meta_dt\"])\n",
        "              flat_json_pdf.to_json(f,orient=\"records\",lines=True,index=False)\n",
        "          i = i + 1\n",
        "    if i>=15 :\n",
        "      f.close()\n",
        "      break"
      ],
      "metadata": {
        "id": "9gElddzZgfGw"
      },
      "execution_count": 237,
      "outputs": []
    },
    {
      "cell_type": "code",
      "source": [
        "flat_json_pdf[\"meta_dt\"].head()"
      ],
      "metadata": {
        "id": "YC4KnaEU1INX",
        "colab": {
          "base_uri": "https://localhost:8080/",
          "height": 115
        },
        "outputId": "f6da2d1f-835a-49c8-9f91-05a521856c64"
      },
      "execution_count": 192,
      "outputs": [
        {
          "output_type": "execute_result",
          "data": {
            "text/plain": [
              "0    2024-09-09T08:31:24Z\n",
              "Name: meta_dt, dtype: object"
            ],
            "text/html": [
              "<div>\n",
              "<style scoped>\n",
              "    .dataframe tbody tr th:only-of-type {\n",
              "        vertical-align: middle;\n",
              "    }\n",
              "\n",
              "    .dataframe tbody tr th {\n",
              "        vertical-align: top;\n",
              "    }\n",
              "\n",
              "    .dataframe thead th {\n",
              "        text-align: right;\n",
              "    }\n",
              "</style>\n",
              "<table border=\"1\" class=\"dataframe\">\n",
              "  <thead>\n",
              "    <tr style=\"text-align: right;\">\n",
              "      <th></th>\n",
              "      <th>meta_dt</th>\n",
              "    </tr>\n",
              "  </thead>\n",
              "  <tbody>\n",
              "    <tr>\n",
              "      <th>0</th>\n",
              "      <td>2024-09-09T08:31:24Z</td>\n",
              "    </tr>\n",
              "  </tbody>\n",
              "</table>\n",
              "</div><br><label><b>dtype:</b> object</label>"
            ]
          },
          "metadata": {},
          "execution_count": 192
        }
      ]
    },
    {
      "cell_type": "code",
      "source": [
        "# design schema here\n",
        "dSchema = T.StructType([\\\n",
        "   T.StructField(\"$Schema\", T.StringType())\\\n",
        "  ,T.StructField(\"id\", T.IntegerType())\\\n",
        "  ,T.StructField(\"type\", T.StringType())\\\n",
        "  ,T.StructField(\"namespace\", T.IntegerType())\\\n",
        "  ,T.StructField(\"title\", T.StringType())\\\n",
        "  ,T.StructField(\"title_url\", T.StringType())\\\n",
        "  ,T.StructField(\"comment\", T.StringType())\\\n",
        "  ,T.StructField(\"timestamp\", T.IntegerType())\\\n",
        "  ,T.StructField(\"user\", T.StringType())\\\n",
        "  ,T.StructField(\"bot\", T.BooleanType())\\\n",
        "  ,T.StructField(\"log_id\", T.IntegerType())\\\n",
        "  ,T.StructField(\"log_type\", T.StringType())\\\n",
        "  ,T.StructField(\"log_action\", T.StringType())\\\n",
        "  ,T.StructField(\"log_action_comment\", T.StringType())\\\n",
        "  ,T.StructField(\"server_url\", T.StringType())\\\n",
        "  ,T.StructField(\"server_name\", T.StringType())\\\n",
        "  ,T.StructField(\"server_script_path\", T.StringType())\\\n",
        "  ,T.StructField(\"wiki\", T.StringType())\\\n",
        "  ,T.StructField(\"parsedcomment\", T.StringType())\\\n",
        "  ,T.StructField(\"meta_uri\", T.StringType())\\\n",
        "  ,T.StructField(\"meta_request_id\", T.StringType())\\\n",
        "  ,T.StructField(\"meta_id\", T.StringType())\\\n",
        "  ,T.StructField(\"meta_dt\", T.TimestampType())\\\n",
        "  ,T.StructField(\"meta_domain\", T.StringType())\\\n",
        "  ,T.StructField(\"meta_stream\", T.StringType())\\\n",
        "  ,T.StructField(\"meta_topic\", T.StringType())\\\n",
        "  ,T.StructField(\"meta_partition\", T.IntegerType())\\\n",
        "  ,T.StructField(\"meta_offset\", T.IntegerType())\\\n",
        "  ,T.StructField(\"log_params_userid\", T.IntegerType())\\\n",
        "                      ])"
      ],
      "metadata": {
        "id": "WmJiMJef56cK"
      },
      "execution_count": 193,
      "outputs": []
    },
    {
      "cell_type": "markdown",
      "source": [
        "# Folder clean up"
      ],
      "metadata": {
        "id": "N30rEChCFXMJ"
      }
    },
    {
      "cell_type": "code",
      "source": [
        "%rm -f *.json"
      ],
      "metadata": {
        "id": "jTq2_6Ah-DAG"
      },
      "execution_count": 186,
      "outputs": []
    },
    {
      "cell_type": "code",
      "source": [
        "%rm -rf *check*"
      ],
      "metadata": {
        "id": "PjIrDPtB-iWf"
      },
      "execution_count": 187,
      "outputs": []
    },
    {
      "cell_type": "code",
      "source": [
        "%rm -rf output"
      ],
      "metadata": {
        "id": "vyj0qupO58uu"
      },
      "execution_count": 188,
      "outputs": []
    },
    {
      "cell_type": "code",
      "source": [
        "#static_df= spark.read.load(\"recentChanges3550.json\",format=\"json\",schema=dSchema)"
      ],
      "metadata": {
        "id": "zwXVjOQUx9GQ"
      },
      "execution_count": 162,
      "outputs": []
    },
    {
      "cell_type": "code",
      "source": [
        "static_df.dtypes"
      ],
      "metadata": {
        "id": "RcrLTtfqU8GE",
        "colab": {
          "base_uri": "https://localhost:8080/"
        },
        "outputId": "e809df76-f52d-43c8-cefb-78dd5dbe95c0",
        "collapsed": true
      },
      "execution_count": 194,
      "outputs": [
        {
          "output_type": "execute_result",
          "data": {
            "text/plain": [
              "[('$Schema', 'string'),\n",
              " ('id', 'int'),\n",
              " ('type', 'string'),\n",
              " ('namespace', 'int'),\n",
              " ('title', 'string'),\n",
              " ('title_url', 'string'),\n",
              " ('comment', 'string'),\n",
              " ('timestamp', 'int'),\n",
              " ('user', 'string'),\n",
              " ('bot', 'boolean'),\n",
              " ('log_id', 'int'),\n",
              " ('log_type', 'string'),\n",
              " ('log_action', 'string'),\n",
              " ('log_action_comment', 'string'),\n",
              " ('server_url', 'string'),\n",
              " ('server_name', 'string'),\n",
              " ('server_script_path', 'string'),\n",
              " ('wiki', 'string'),\n",
              " ('parsedcomment', 'string'),\n",
              " ('meta_uri', 'string'),\n",
              " ('meta_request_id', 'string'),\n",
              " ('meta_id', 'string'),\n",
              " ('meta_dt', 'timestamp'),\n",
              " ('meta_domain', 'string'),\n",
              " ('meta_stream', 'string'),\n",
              " ('meta_topic', 'string'),\n",
              " ('meta_partition', 'int'),\n",
              " ('meta_offset', 'int'),\n",
              " ('log_params_userid', 'int')]"
            ]
          },
          "metadata": {},
          "execution_count": 194
        }
      ]
    },
    {
      "cell_type": "markdown",
      "source": [
        "# Structured Streaming"
      ],
      "metadata": {
        "id": "EqSj76u5Bieg"
      }
    },
    {
      "cell_type": "code",
      "source": [
        "#create Dataframe representing the stream of input lines from connection to localhost:9999\n",
        "recentChange = spark.readStream.format(\"json\").schema(dSchema).load(\"input\")\n"
      ],
      "metadata": {
        "id": "Dsw8A9vlktFH"
      },
      "execution_count": 196,
      "outputs": []
    },
    {
      "cell_type": "code",
      "source": [
        "recentChange.isStreaming"
      ],
      "metadata": {
        "id": "z6ngMdH23l9w"
      },
      "execution_count": null,
      "outputs": []
    },
    {
      "cell_type": "code",
      "source": [
        "rc_df = recentChange.withColumn(\"meta_dt\", recentChange.meta_dt.cast(T.TimestampType()))\n",
        "rc_df"
      ],
      "metadata": {
        "colab": {
          "base_uri": "https://localhost:8080/"
        },
        "id": "KST1sBJO82hG",
        "outputId": "2554fc60-3e74-4a24-810e-24eabedd7111"
      },
      "execution_count": 198,
      "outputs": [
        {
          "output_type": "execute_result",
          "data": {
            "text/plain": [
              "DataFrame[$Schema: string, id: int, type: string, namespace: int, title: string, title_url: string, comment: string, timestamp: int, user: string, bot: boolean, log_id: int, log_type: string, log_action: string, log_action_comment: string, server_url: string, server_name: string, server_script_path: string, wiki: string, parsedcomment: string, meta_uri: string, meta_request_id: string, meta_id: string, meta_dt: timestamp, meta_domain: string, meta_stream: string, meta_topic: string, meta_partition: int, meta_offset: int, log_params_userid: int]"
            ]
          },
          "metadata": {},
          "execution_count": 198
        }
      ]
    },
    {
      "cell_type": "code",
      "source": [
        "# Assuming 'recentChange' is your streaming DataFrame\n",
        "myquery = rc_df\\\n",
        "   .withWatermark(\"meta_dt\", \"10 seconds\")\\\n",
        "   .groupBy(F.window(\"meta_dt\",\"10 seconds\")\\\n",
        "         , \"type\")\\\n",
        "  .count()\\\n",
        "  .writeStream\\\n",
        "  .format(\"csv\")\\\n",
        "  .outputMode(\"append\")\\\n",
        "  .option(\"path\", \"output\")\\\n",
        "  .option(\"header\",\"true\")\\\n",
        "  .option(\"checkpointLocation\", \"checkpoint_dir\")\\\n",
        "  .start()\n",
        "\n"
      ],
      "metadata": {
        "id": "iMpk9pUSOiJG"
      },
      "execution_count": 249,
      "outputs": []
    },
    {
      "cell_type": "code",
      "source": [
        "myquery.stop()"
      ],
      "metadata": {
        "id": "Hc6btCw3kOoG"
      },
      "execution_count": 209,
      "outputs": []
    },
    {
      "cell_type": "code",
      "source": [
        "inmemoryQuery = rc_df\\\n",
        "  .groupBy(F.window(\"meta_dt\",\"1 minutes\"), \"type\")\\\n",
        "  .count()\\\n",
        "  .writeStream\\\n",
        "  .queryName(\"myquery\")\\\n",
        "  .format(\"memory\")\\\n",
        "  .outputMode(\"complete\")\\\n",
        "  .start()"
      ],
      "metadata": {
        "id": "ETsu-DJmOyRv"
      },
      "execution_count": 242,
      "outputs": []
    },
    {
      "cell_type": "code",
      "source": [
        "spark.sql(\"select * from myquery order by window\").show(truncate=False)"
      ],
      "metadata": {
        "colab": {
          "base_uri": "https://localhost:8080/"
        },
        "id": "bw9804hHQiBj",
        "outputId": "0d3d22d4-5de5-41b8-8166-ca0cc0c89197"
      },
      "execution_count": 246,
      "outputs": [
        {
          "output_type": "stream",
          "name": "stdout",
          "text": [
            "+------------------------------------------+----------+-----+\n",
            "|window                                    |type      |count|\n",
            "+------------------------------------------+----------+-----+\n",
            "|{2024-09-09 08:31:00, 2024-09-09 08:32:00}|categorize|1    |\n",
            "|{2024-09-09 08:31:00, 2024-09-09 08:32:00}|edit      |3    |\n",
            "|{2024-09-09 10:10:00, 2024-09-09 10:11:00}|edit      |2    |\n",
            "|{2024-09-09 10:10:00, 2024-09-09 10:11:00}|categorize|2    |\n",
            "|{2024-09-09 10:12:00, 2024-09-09 10:13:00}|new       |1    |\n",
            "|{2024-09-09 10:12:00, 2024-09-09 10:13:00}|categorize|1    |\n",
            "|{2024-09-09 10:12:00, 2024-09-09 10:13:00}|log       |3    |\n",
            "|{2024-09-09 10:12:00, 2024-09-09 10:13:00}|edit      |10   |\n",
            "|{2024-09-09 10:34:00, 2024-09-09 10:35:00}|log       |1    |\n",
            "|{2024-09-09 10:34:00, 2024-09-09 10:35:00}|edit      |4    |\n",
            "|{2024-09-09 10:34:00, 2024-09-09 10:35:00}|new       |1    |\n",
            "|{2024-09-09 10:34:00, 2024-09-09 10:35:00}|categorize|9    |\n",
            "+------------------------------------------+----------+-----+\n",
            "\n"
          ]
        }
      ]
    },
    {
      "cell_type": "code",
      "source": [
        "inmemoryQuery.stop()"
      ],
      "metadata": {
        "id": "3rYeooV7WG_5"
      },
      "execution_count": 248,
      "outputs": []
    }
  ]
}