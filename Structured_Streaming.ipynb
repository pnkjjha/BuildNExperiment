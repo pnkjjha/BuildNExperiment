{
  "nbformat": 4,
  "nbformat_minor": 0,
  "metadata": {
    "colab": {
      "provenance": [],
      "authorship_tag": "ABX9TyPfgoVzX+Ep3p93yM2FudHp",
      "include_colab_link": true
    },
    "kernelspec": {
      "name": "python3",
      "display_name": "Python 3"
    },
    "language_info": {
      "name": "python"
    }
  },
  "cells": [
    {
      "cell_type": "markdown",
      "metadata": {
        "id": "view-in-github",
        "colab_type": "text"
      },
      "source": [
        "<a href=\"https://colab.research.google.com/github/pnkjjha/BuildNExperiment/blob/main/Structured_Streaming.ipynb\" target=\"_parent\"><img src=\"https://colab.research.google.com/assets/colab-badge.svg\" alt=\"Open In Colab\"/></a>"
      ]
    },
    {
      "cell_type": "code",
      "execution_count": 1,
      "metadata": {
        "colab": {
          "base_uri": "https://localhost:8080/"
        },
        "id": "Dh-8bNSmftZt",
        "outputId": "6ac3a424-68c5-4fe5-a4a0-baaaa57c4d36"
      },
      "outputs": [
        {
          "output_type": "stream",
          "name": "stdout",
          "text": [
            "Collecting pyspark\n",
            "  Downloading pyspark-3.5.2.tar.gz (317.3 MB)\n",
            "\u001b[2K     \u001b[90m━━━━━━━━━━━━━━━━━━━━━━━━━━━━━━━━━━━━━━━━\u001b[0m \u001b[32m317.3/317.3 MB\u001b[0m \u001b[31m4.8 MB/s\u001b[0m eta \u001b[36m0:00:00\u001b[0m\n",
            "\u001b[?25h  Preparing metadata (setup.py) ... \u001b[?25l\u001b[?25hdone\n",
            "Requirement already satisfied: py4j==0.10.9.7 in /usr/local/lib/python3.10/dist-packages (from pyspark) (0.10.9.7)\n",
            "Building wheels for collected packages: pyspark\n",
            "  Building wheel for pyspark (setup.py) ... \u001b[?25l\u001b[?25hdone\n",
            "  Created wheel for pyspark: filename=pyspark-3.5.2-py2.py3-none-any.whl size=317812365 sha256=d2ecadfe7dab74f97cfd8f641243ed8b14d2fec187c3d29f431af7502457bf43\n",
            "  Stored in directory: /root/.cache/pip/wheels/34/34/bd/03944534c44b677cd5859f248090daa9fb27b3c8f8e5f49574\n",
            "Successfully built pyspark\n",
            "Installing collected packages: pyspark\n",
            "Successfully installed pyspark-3.5.2\n"
          ]
        }
      ],
      "source": [
        "!pip install pyspark"
      ]
    },
    {
      "cell_type": "code",
      "source": [
        "from pyspark.sql import SparkSession\n",
        "from pandas import json_normalize\n",
        "import pyspark.sql.functions as F\n",
        "import pyspark.sql.types as T\n",
        "import random\n",
        "import requests\n",
        "import json\n",
        "import os\n",
        "import pandas as pd\n",
        "import datetime"
      ],
      "metadata": {
        "id": "iytu5ZCLjr1p"
      },
      "execution_count": 2,
      "outputs": []
    },
    {
      "cell_type": "code",
      "source": [
        "# spark=SparkSession.builder.appName('test').config(\"spark.sql.shuffle.partitions\", \"4\").getOrCreate()"
      ],
      "metadata": {
        "id": "F0tM6c5lka9g"
      },
      "execution_count": null,
      "outputs": []
    },
    {
      "cell_type": "code",
      "source": [
        "spark=SparkSession.builder.appName('test').getOrCreate()"
      ],
      "metadata": {
        "id": "A0CCb3pFfBLH"
      },
      "execution_count": 3,
      "outputs": []
    },
    {
      "cell_type": "code",
      "source": [
        "# url = \"https://api.carbonintensity.org.uk/intensity\"\n",
        "\n",
        "# while switch:\n",
        "#   response = requests.get(url)\n",
        "#   json_normalize(response.json())\n",
        "#   message = response.json()\n",
        "#   json_normalize(message['data']).rename(columns={\"intensity.forecast\": \"intensity_forecast\",\\\n",
        "#                                                   \"intensity.actual\": \"intensity_actual\",\\\n",
        "#                                                   \"intensity.percentile\": \"intensity_percentile\",\\\n",
        "#                                                   \"intensity.index\": \"intensity_index\"\\\n",
        "#                                                   }).to_csv(\"intensity_\"+str(random.randint(1,10000))+\".csv\", index=False)\n"
      ],
      "metadata": {
        "id": "A0goOaF2Cj73"
      },
      "execution_count": null,
      "outputs": []
    },
    {
      "cell_type": "code",
      "source": [
        "# read lines from file\n",
        "def flat_json(line):\n",
        "  # convert line into json\n",
        "  line_json = json.loads(line)\n",
        "# json normalize\n",
        "  flatline = pd.json_normalize(line_json,sep=\"_\")\n",
        "  return flatline\n"
      ],
      "metadata": {
        "id": "KZWBwUmFzf6k"
      },
      "execution_count": null,
      "outputs": []
    },
    {
      "cell_type": "markdown",
      "source": [
        "#Inputfile generation"
      ],
      "metadata": {
        "id": "hSpVmSc1FuVq"
      }
    },
    {
      "cell_type": "code",
      "source": [
        "%rm -rf input\n",
        "%mkdir input"
      ],
      "metadata": {
        "id": "WT9q5udv4D0g"
      },
      "execution_count": 4,
      "outputs": []
    },
    {
      "cell_type": "code",
      "source": [
        "datetime.datetime.strftime(datetime.datetime.utcnow(),\"%Y-%m-%d %H:%M:%S\")"
      ],
      "metadata": {
        "colab": {
          "base_uri": "https://localhost:8080/",
          "height": 36
        },
        "id": "GNiuj0S8Bn6C",
        "outputId": "8ce33a98-0b17-4a23-ed22-28f807423e91"
      },
      "execution_count": 5,
      "outputs": [
        {
          "output_type": "execute_result",
          "data": {
            "text/plain": [
              "'2024-09-16 06:57:36'"
            ],
            "application/vnd.google.colaboratory.intrinsic+json": {
              "type": "string"
            }
          },
          "metadata": {},
          "execution_count": 5
        }
      ]
    },
    {
      "cell_type": "code",
      "source": [
        "i = 0\n",
        "s = requests.Session()\n",
        "url = \"https://stream.wikimedia.org/v2/stream/recentchange\"\n",
        "file_number = str(random.randint(1,10000))\n",
        "with s.get(url, stream=True) as resp:\n",
        "    for line in resp.iter_lines(1024,decode_unicode=True):\n",
        "        # Check if line has some bytes in it\n",
        "        if line:\n",
        "            # convert line into json\n",
        "            # get data lines only\n",
        "            if line[:4] == \"data\":\n",
        "                # print(line[5:])\n",
        "                json_line = json.loads(line[5:])\n",
        "                flatlines = pd.json_normalize(json_line,sep=\"_\")\n",
        "                with open(\"input/rc\"+str(random.randint(1,10000))+\".json\",\"a\",encoding=\"utf-8\") as f:\n",
        "                    flatlines.to_json(f,orient=\"records\",lines=True,index=False)\n",
        "                    i = i + 1\n",
        "                    if i>=4 :\n",
        "                        break"
      ],
      "metadata": {
        "id": "Vb3_FJkfrLmt"
      },
      "execution_count": 25,
      "outputs": []
    },
    {
      "cell_type": "code",
      "source": [
        "%ls -l input | wc -l"
      ],
      "metadata": {
        "id": "IWESPbFLC_4n",
        "colab": {
          "base_uri": "https://localhost:8080/"
        },
        "outputId": "b4da8ef6-121e-4b57-b13b-1fbb97bb4ea6"
      },
      "execution_count": 7,
      "outputs": [
        {
          "output_type": "stream",
          "name": "stdout",
          "text": [
            "5\n"
          ]
        }
      ]
    },
    {
      "cell_type": "code",
      "source": [
        "# design schema here\n",
        "dSchema = T.StructType([\\\n",
        "   T.StructField(\"$Schema\", T.StringType())\\\n",
        "  ,T.StructField(\"id\", T.IntegerType())\\\n",
        "  ,T.StructField(\"type\", T.StringType())\\\n",
        "  ,T.StructField(\"namespace\", T.IntegerType())\\\n",
        "  ,T.StructField(\"title\", T.StringType())\\\n",
        "  ,T.StructField(\"title_url\", T.StringType())\\\n",
        "  ,T.StructField(\"comment\", T.StringType())\\\n",
        "  ,T.StructField(\"timestamp\", T.IntegerType())\\\n",
        "  ,T.StructField(\"user\", T.StringType())\\\n",
        "  ,T.StructField(\"bot\", T.BooleanType())\\\n",
        "  ,T.StructField(\"log_id\", T.IntegerType())\\\n",
        "  ,T.StructField(\"log_type\", T.StringType())\\\n",
        "  ,T.StructField(\"log_action\", T.StringType())\\\n",
        "  ,T.StructField(\"log_action_comment\", T.StringType())\\\n",
        "  ,T.StructField(\"server_url\", T.StringType())\\\n",
        "  ,T.StructField(\"server_name\", T.StringType())\\\n",
        "  ,T.StructField(\"server_script_path\", T.StringType())\\\n",
        "  ,T.StructField(\"wiki\", T.StringType())\\\n",
        "  ,T.StructField(\"parsedcomment\", T.StringType())\\\n",
        "  ,T.StructField(\"meta_uri\", T.StringType())\\\n",
        "  ,T.StructField(\"meta_request_id\", T.StringType())\\\n",
        "  ,T.StructField(\"meta_id\", T.StringType())\\\n",
        "  ,T.StructField(\"meta_dt\", T.TimestampType())\\\n",
        "  ,T.StructField(\"meta_domain\", T.StringType())\\\n",
        "  ,T.StructField(\"meta_stream\", T.StringType())\\\n",
        "  ,T.StructField(\"meta_topic\", T.StringType())\\\n",
        "  ,T.StructField(\"meta_partition\", T.IntegerType())\\\n",
        "  ,T.StructField(\"meta_offset\", T.IntegerType())\\\n",
        "  ,T.StructField(\"log_params_userid\", T.IntegerType())\\\n",
        "                      ])"
      ],
      "metadata": {
        "id": "WmJiMJef56cK"
      },
      "execution_count": 8,
      "outputs": []
    },
    {
      "cell_type": "code",
      "source": [
        "spark.read.load(\"input\",format=\"json\",schema=dSchema).select(\"meta_dt\",\"type\").orderBy(\"meta_dt\", ascending=False).show(15)"
      ],
      "metadata": {
        "colab": {
          "base_uri": "https://localhost:8080/"
        },
        "id": "O5tsaFlBfxNQ",
        "outputId": "559c48cb-f4d9-4296-d987-1779040e3924"
      },
      "execution_count": 9,
      "outputs": [
        {
          "output_type": "stream",
          "name": "stdout",
          "text": [
            "+-------------------+----------+\n",
            "|            meta_dt|      type|\n",
            "+-------------------+----------+\n",
            "|2024-09-16 06:57:53|      edit|\n",
            "|2024-09-16 06:57:49|categorize|\n",
            "|2024-09-16 06:57:40|categorize|\n",
            "|2024-09-16 06:57:40|categorize|\n",
            "+-------------------+----------+\n",
            "\n"
          ]
        }
      ]
    },
    {
      "cell_type": "markdown",
      "source": [
        "# Folder clean up"
      ],
      "metadata": {
        "id": "N30rEChCFXMJ"
      }
    },
    {
      "cell_type": "code",
      "source": [
        "%rm -f input/*.json"
      ],
      "metadata": {
        "id": "jTq2_6Ah-DAG"
      },
      "execution_count": null,
      "outputs": []
    },
    {
      "cell_type": "code",
      "source": [
        "%rm -rf *check*"
      ],
      "metadata": {
        "id": "PjIrDPtB-iWf"
      },
      "execution_count": null,
      "outputs": []
    },
    {
      "cell_type": "code",
      "source": [
        "%rm -rf *output*"
      ],
      "metadata": {
        "id": "vyj0qupO58uu"
      },
      "execution_count": null,
      "outputs": []
    },
    {
      "cell_type": "markdown",
      "source": [
        "# Structured Streaming"
      ],
      "metadata": {
        "id": "EqSj76u5Bieg"
      }
    },
    {
      "cell_type": "code",
      "source": [
        "#create Dataframe representing the stream of input lines from connection to localhost:9999\n",
        "recentChange = spark.readStream.format(\"json\").schema(dSchema).load(\"input\")\n"
      ],
      "metadata": {
        "id": "Dsw8A9vlktFH"
      },
      "execution_count": 10,
      "outputs": []
    },
    {
      "cell_type": "code",
      "source": [
        "recentChange.isStreaming"
      ],
      "metadata": {
        "id": "z6ngMdH23l9w",
        "colab": {
          "base_uri": "https://localhost:8080/"
        },
        "outputId": "76aa4ac1-019f-4769-ed78-238ef1c0ada5"
      },
      "execution_count": null,
      "outputs": [
        {
          "output_type": "execute_result",
          "data": {
            "text/plain": [
              "True"
            ]
          },
          "metadata": {},
          "execution_count": 34
        }
      ]
    },
    {
      "cell_type": "code",
      "source": [
        "rc_df = recentChange.withColumn(\"meta_dt\", recentChange.meta_dt.cast(T.TimestampType()))\n",
        "rc_df"
      ],
      "metadata": {
        "colab": {
          "base_uri": "https://localhost:8080/"
        },
        "id": "KST1sBJO82hG",
        "outputId": "e666466f-fc3c-4a18-b90c-d3da85cc9754"
      },
      "execution_count": 11,
      "outputs": [
        {
          "output_type": "execute_result",
          "data": {
            "text/plain": [
              "DataFrame[$Schema: string, id: int, type: string, namespace: int, title: string, title_url: string, comment: string, timestamp: int, user: string, bot: boolean, log_id: int, log_type: string, log_action: string, log_action_comment: string, server_url: string, server_name: string, server_script_path: string, wiki: string, parsedcomment: string, meta_uri: string, meta_request_id: string, meta_id: string, meta_dt: timestamp, meta_domain: string, meta_stream: string, meta_topic: string, meta_partition: int, meta_offset: int, log_params_userid: int]"
            ]
          },
          "metadata": {},
          "execution_count": 11
        }
      ]
    },
    {
      "cell_type": "code",
      "source": [
        "# Assuming 'recentChange' is your streaming DataFrame\n",
        "myquery = recentChange\\\n",
        "  .withColumn(\"meta_dt\", recentChange.meta_dt.cast(T.TimestampType()))\\\n",
        "  .withWatermark(\"meta_dt\", \"1 minute\")\\\n",
        "  .groupBy(F.window(\"meta_dt\",\"1 minute\")\\\n",
        "         , \"type\")\\\n",
        "  .count()\\\n",
        "  .writeStream\\\n",
        "  .format(\"json\")\\\n",
        "  .outputMode(\"append\")\\\n",
        "  .option(\"path\", \"output\")\\\n",
        "  .option(\"checkpointLocation\", \"checkpoint_dir\")\\\n",
        "  .start()\n",
        "\n"
      ],
      "metadata": {
        "id": "iMpk9pUSOiJG"
      },
      "execution_count": null,
      "outputs": []
    },
    {
      "cell_type": "code",
      "source": [
        "# Assuming 'recentChange' is your streaming DataFrame; This cell is working without aggregation\n",
        "# myquery = recentChange\\\n",
        "#   .withColumn(\"meta_dt\", recentChange.meta_dt.cast(T.TimestampType()))\\\n",
        "#   .writeStream\\\n",
        "#   .format(\"csv\")\\\n",
        "#   .outputMode(\"append\")\\\n",
        "#   .option(\"path\", \"output\")\\\n",
        "#   .option(\"header\",\"true\")\\\n",
        "#   .option(\"checkpointLocation\", \"checkpoint_dir\")\\\n",
        "#   .start()"
      ],
      "metadata": {
        "id": "Ifxf46UQ_3ee"
      },
      "execution_count": null,
      "outputs": []
    },
    {
      "cell_type": "code",
      "source": [
        "%cat output/part-00093-b19746f6-e84a-4424-b8bc-b0468383475b-c000.json"
      ],
      "metadata": {
        "colab": {
          "base_uri": "https://localhost:8080/"
        },
        "id": "QEqBfuWDHpl6",
        "outputId": "7b30f10f-4d8a-4431-8a34-7ce3b3979628"
      },
      "execution_count": null,
      "outputs": [
        {
          "output_type": "stream",
          "name": "stdout",
          "text": [
            "{\"window\":{\"start\":\"2024-09-13T11:16:00.000Z\",\"end\":\"2024-09-13T11:17:00.000Z\"},\"type\":\"edit\",\"count\":3}\n"
          ]
        }
      ]
    },
    {
      "cell_type": "code",
      "source": [
        "%cat output/part-00196-0b21f675-e29e-4c82-b31a-dedbd3990186-c000.json"
      ],
      "metadata": {
        "colab": {
          "base_uri": "https://localhost:8080/"
        },
        "id": "QKzjD_b5H_Ka",
        "outputId": "9bed2341-fead-4dfc-c0e7-821256b0f2f6"
      },
      "execution_count": null,
      "outputs": [
        {
          "output_type": "stream",
          "name": "stdout",
          "text": [
            "{\"window\":{\"start\":\"2024-09-13T11:16:00.000Z\",\"end\":\"2024-09-13T11:17:00.000Z\"},\"type\":\"log\",\"count\":1}\n"
          ]
        }
      ]
    },
    {
      "cell_type": "code",
      "source": [
        "%cat output/part-00047-9d86922b-7bea-4cdc-8440-aa6aa0131d09-c000.json"
      ],
      "metadata": {
        "colab": {
          "base_uri": "https://localhost:8080/"
        },
        "id": "Nn_i-6EYIr7S",
        "outputId": "5a83c182-5d81-4c1c-ddda-36190327e5d0"
      },
      "execution_count": null,
      "outputs": [
        {
          "output_type": "stream",
          "name": "stdout",
          "text": [
            "{\"window\":{\"start\":\"2024-09-13T11:21:00.000Z\",\"end\":\"2024-09-13T11:22:00.000Z\"},\"type\":\"edit\",\"count\":4}\n"
          ]
        }
      ]
    },
    {
      "cell_type": "code",
      "source": [
        "%ls -lrt output"
      ],
      "metadata": {
        "id": "Ots1IUvu-8P7"
      },
      "execution_count": null,
      "outputs": []
    },
    {
      "cell_type": "code",
      "source": [
        "spark.read.load(\"output\",format=\"csv\",schema = T.StructType([\"window\"])).show(15)"
      ],
      "metadata": {
        "id": "0zdNmyK0AOr-"
      },
      "execution_count": null,
      "outputs": []
    },
    {
      "cell_type": "code",
      "source": [
        "myquery.stop()"
      ],
      "metadata": {
        "id": "Hc6btCw3kOoG"
      },
      "execution_count": null,
      "outputs": []
    },
    {
      "cell_type": "code",
      "source": [
        "inmemoryQuery = recentChange\\\n",
        "  .withColumn(\"meta_dt\", recentChange.meta_dt.cast(T.TimestampType()))\\\n",
        "  .groupBy(F.window(\"meta_dt\",\"1 minute\"), \"type\")\\\n",
        "  .count()\\\n",
        "  .writeStream\\\n",
        "  .queryName(\"myquery\")\\\n",
        "  .format(\"memory\")\\\n",
        "  .outputMode(\"complete\")\\\n",
        "  .start()"
      ],
      "metadata": {
        "id": "ETsu-DJmOyRv"
      },
      "execution_count": null,
      "outputs": []
    },
    {
      "cell_type": "code",
      "source": [
        "spark.sql(\"select * from myquery order by type\").show(truncate=False)"
      ],
      "metadata": {
        "id": "bw9804hHQiBj"
      },
      "execution_count": null,
      "outputs": []
    },
    {
      "cell_type": "code",
      "source": [
        "inmemoryQuery.stop()"
      ],
      "metadata": {
        "id": "3rYeooV7WG_5"
      },
      "execution_count": null,
      "outputs": []
    },
    {
      "cell_type": "code",
      "source": [
        "%ls -lr input"
      ],
      "metadata": {
        "id": "z8wLp1XYJNN5"
      },
      "execution_count": null,
      "outputs": []
    },
    {
      "cell_type": "markdown",
      "source": [
        "#Testing"
      ],
      "metadata": {
        "id": "D_qDbv_V5Bk-"
      }
    },
    {
      "cell_type": "code",
      "source": [
        "rate_df = spark.readStream.format(\"rate\").option(\"rowsPerSecond\", 100).load()"
      ],
      "metadata": {
        "id": "1mPuy8MI5FqF"
      },
      "execution_count": null,
      "outputs": []
    },
    {
      "cell_type": "code",
      "source": [
        "rate_df.printSchema()"
      ],
      "metadata": {
        "id": "3PnTx76c5yxu"
      },
      "execution_count": null,
      "outputs": []
    },
    {
      "cell_type": "code",
      "source": [
        "rate_df.writeStream.format(\"memory\").queryName(\"query_name\").outputMode(\"append\").start()"
      ],
      "metadata": {
        "id": "JCnz7Bwe5_wW"
      },
      "execution_count": null,
      "outputs": []
    },
    {
      "cell_type": "code",
      "source": [
        "spark.sql(\"select * from query_name\").show(truncate=False)"
      ],
      "metadata": {
        "id": "j69J9MyY6g8T"
      },
      "execution_count": null,
      "outputs": []
    },
    {
      "cell_type": "code",
      "source": [
        "json_rate_df=rate_df.withWatermark(\"timestamp\", \"5 minutes\")\\\n",
        ".groupBy(F.window(\"timestamp\",\"1 minutes\"))\\\n",
        ".count()\\\n",
        ".writeStream.format(\"json\").option(\"path\", \"json_output\").option(\"checkpointLocation\", \"checkpoint_dir_json\")\\\n",
        ".trigger(processingTime=\"3 minutes\")\\\n",
        ".start()"
      ],
      "metadata": {
        "id": "xejhQhI368-O"
      },
      "execution_count": null,
      "outputs": []
    },
    {
      "cell_type": "code",
      "source": [
        "datetime.datetime.strftime(datetime.datetime.utcnow(),\"%Y-%m-%d %H:%M:%S\")"
      ],
      "metadata": {
        "colab": {
          "base_uri": "https://localhost:8080/",
          "height": 36
        },
        "id": "VZB54Xn6UUgu",
        "outputId": "08837915-f5f7-49a0-950d-967fbc4e9e3f"
      },
      "execution_count": null,
      "outputs": [
        {
          "output_type": "execute_result",
          "data": {
            "text/plain": [
              "'2024-09-11 15:05:24'"
            ],
            "application/vnd.google.colaboratory.intrinsic+json": {
              "type": "string"
            }
          },
          "metadata": {},
          "execution_count": 191
        }
      ]
    },
    {
      "cell_type": "code",
      "source": [
        "%ls --full-time -lrt  json_output"
      ],
      "metadata": {
        "id": "VLwHdrqC8a40"
      },
      "execution_count": null,
      "outputs": []
    },
    {
      "cell_type": "code",
      "source": [
        "json_rate_df.stop()"
      ],
      "metadata": {
        "id": "XiEVeMTG8uB9"
      },
      "execution_count": null,
      "outputs": []
    },
    {
      "cell_type": "code",
      "source": [
        "%cat json_output/part-00002-70c4bd8c-ed49-402f-a95a-6c4545de077e-c000.json"
      ],
      "metadata": {
        "id": "if6Fo3nV8yps"
      },
      "execution_count": null,
      "outputs": []
    },
    {
      "cell_type": "code",
      "source": [
        "%cat json_output/part-00091-42089495-424d-444d-9ede-f083acfd61dd-c000.json"
      ],
      "metadata": {
        "id": "YdXR032hPTwW"
      },
      "execution_count": null,
      "outputs": []
    },
    {
      "cell_type": "code",
      "source": [
        "%cat json_output/part-00075-f8c9962f-45e4-47ac-9a38-767593f31c98-c000.json"
      ],
      "metadata": {
        "id": "P5L52iVWPujl"
      },
      "execution_count": null,
      "outputs": []
    },
    {
      "cell_type": "code",
      "source": [
        "table_query = rc_df.writeStream\\\n",
        "  .format(\"parquet\")\\\n",
        "  .option(\"checkpointLocation\", \"checkpoint_dir_parquet\")\\\n",
        "  .toTable(\"rc_table\")"
      ],
      "metadata": {
        "id": "xlX4qb1QoYog"
      },
      "execution_count": 14,
      "outputs": []
    },
    {
      "cell_type": "code",
      "source": [
        "spark.sql(\"select * from rc_table\").show()"
      ],
      "metadata": {
        "colab": {
          "base_uri": "https://localhost:8080/"
        },
        "id": "M_MFLP-QpUOP",
        "outputId": "9dacb25d-a76b-4c06-b09f-3692a80a6bf1"
      },
      "execution_count": 21,
      "outputs": [
        {
          "output_type": "stream",
          "name": "stdout",
          "text": [
            "+-------+----------+----------+---------+--------------------+--------------------+--------------------+----------+--------------------+-----+------+--------+----------+------------------+--------------------+--------------------+------------------+------------+--------------------+--------------------+--------------------+--------------------+-------------------+--------------------+--------------------+--------------------+--------------+-----------+-----------------+\n",
            "|$Schema|        id|      type|namespace|               title|           title_url|             comment| timestamp|                user|  bot|log_id|log_type|log_action|log_action_comment|          server_url|         server_name|server_script_path|        wiki|       parsedcomment|            meta_uri|     meta_request_id|             meta_id|            meta_dt|         meta_domain|         meta_stream|          meta_topic|meta_partition|meta_offset|log_params_userid|\n",
            "+-------+----------+----------+---------+--------------------+--------------------+--------------------+----------+--------------------+-----+------+--------+----------+------------------+--------------------+--------------------+------------------+------------+--------------------+--------------------+--------------------+--------------------+-------------------+--------------------+--------------------+--------------------+--------------+-----------+-----------------+\n",
            "|   NULL| 310636511|categorize|       14|تصنيف:جميع المقال...|https://ar.wikipe...|أضيفت [[:إليز ديل...|1726469860|            LokasBot| true|  NULL|    NULL|      NULL|              NULL|https://ar.wikipe...|    ar.wikipedia.org|                /w|      arwiki|أضيفت <a href=\"/w...|https://ar.wikipe...|ac6f8f02-40dd-4fd...|cd92c9f0-ba23-4d9...|2024-09-16 06:57:40|    ar.wikipedia.org|mediawiki.recentc...|eqiad.mediawiki.r...|             0|       NULL|             NULL|\n",
            "|   NULL| 310636512|categorize|       14|تصنيف:مقالات بها ...|https://ar.wikipe...|أضيفت [[:إليز ديل...|1726469860|            LokasBot| true|  NULL|    NULL|      NULL|              NULL|https://ar.wikipe...|    ar.wikipedia.org|                /w|      arwiki|أضيفت <a href=\"/w...|https://ar.wikipe...|ac6f8f02-40dd-4fd...|f6dcb9f1-539d-4fe...|2024-09-16 06:57:40|    ar.wikipedia.org|mediawiki.recentc...|eqiad.mediawiki.r...|             0|       NULL|             NULL|\n",
            "|   NULL|      NULL|categorize|       14|Category:Images f...|https://commons.w...|[[:File:Black Lak...|1726470343|         GeographBot| true|  NULL|    NULL|      NULL|              NULL|https://commons.w...|commons.wikimedia...|                /w| commonswiki|<a href=\"/wiki/Fi...|https://commons.w...|eff046e4-293c-448...|2f19e31d-b935-4d2...|2024-09-16 07:05:43|commons.wikimedia...|mediawiki.recentc...|eqiad.mediawiki.r...|             0|       NULL|             NULL|\n",
            "|   NULL|      NULL|categorize|       14|Category:Images f...|https://commons.w...|[[:File:Black Lak...|1726470343|         GeographBot| true|  NULL|    NULL|      NULL|              NULL|https://commons.w...|commons.wikimedia...|                /w| commonswiki|<a href=\"/wiki/Fi...|https://commons.w...|eff046e4-293c-448...|d77e23ad-2f0b-427...|2024-09-16 07:05:43|commons.wikimedia...|mediawiki.recentc...|eqiad.mediawiki.r...|             0|       NULL|             NULL|\n",
            "|   NULL|      NULL|      edit|        6|File:Catalina Ros...|https://commons.w...|/* wbeditentity-u...|1726470347|FlickypediaBackfi...| true|  NULL|    NULL|      NULL|              NULL|https://commons.w...|commons.wikimedia...|                /w| commonswiki|‎<span dir=\"auto\"...|https://commons.w...|7b205397-b11c-4d8...|665a0508-a7e6-475...|2024-09-16 07:05:47|commons.wikimedia...|mediawiki.recentc...|eqiad.mediawiki.r...|             0|       NULL|             NULL|\n",
            "|   NULL|      NULL|      edit|        0|          Q112631086|https://www.wikid...|/* wbsetclaim-cre...|1726469873|               DGtal|false|  NULL|    NULL|      NULL|              NULL|https://www.wikid...|    www.wikidata.org|                /w|wikidatawiki|‏<span dir=\"auto\"...|https://www.wikid...|bb726877-049a-4b0...|b21e1340-1b12-474...|2024-09-16 06:57:53|    www.wikidata.org|mediawiki.recentc...|eqiad.mediawiki.r...|             0|       NULL|             NULL|\n",
            "|   NULL|1818919125|categorize|       14|Category:C-Class ...|https://en.wikipe...|[[:Talk:Joan Will...|1726469869|       Roastedbeanz1|false|  NULL|    NULL|      NULL|              NULL|https://en.wikipe...|    en.wikipedia.org|                /w|      enwiki|<a href=\"/wiki/Ta...|https://en.wikipe...|5a367dab-8317-48a...|801b29b5-39b0-455...|2024-09-16 06:57:49|    en.wikipedia.org|mediawiki.recentc...|eqiad.mediawiki.r...|             0|       NULL|             NULL|\n",
            "|   NULL|1818920301|      edit|        0|      Sassoon family|https://en.wikipe...|/* Eliau (Elias) ...|1726470345|       83.110.75.203|false|  NULL|    NULL|      NULL|              NULL|https://en.wikipe...|    en.wikipedia.org|                /w|      enwiki|<span dir=\"auto\">...|https://en.wikipe...|4a5e2d47-1697-40f...|1e99adf6-dba8-4bf...|2024-09-16 07:05:45|    en.wikipedia.org|mediawiki.recentc...|eqiad.mediawiki.r...|             0|       NULL|             NULL|\n",
            "+-------+----------+----------+---------+--------------------+--------------------+--------------------+----------+--------------------+-----+------+--------+----------+------------------+--------------------+--------------------+------------------+------------+--------------------+--------------------+--------------------+--------------------+-------------------+--------------------+--------------------+--------------------+--------------+-----------+-----------------+\n",
            "\n"
          ]
        }
      ]
    },
    {
      "cell_type": "code",
      "source": [
        "table_query.stop()"
      ],
      "metadata": {
        "id": "YR4F6P8Ip5iY"
      },
      "execution_count": 19,
      "outputs": []
    },
    {
      "cell_type": "code",
      "source": [
        "table_agg_query = rc_df\\\n",
        "  .withWatermark(\"meta_dt\", \"1 minute\")\\\n",
        "  .groupBy(F.window(\"meta_dt\",\"1 minute\")\\\n",
        "         , \"type\")\\\n",
        "  .count()\\\n",
        "  .writeStream\\\n",
        "  .format(\"parquet\")\\\n",
        "  .option(\"checkpointLocation\", \"checkpoint_dir_table_agg)\")\\\n",
        "  .toTable(\"rc_table_agg\")"
      ],
      "metadata": {
        "id": "sOq-8kQcq9C9"
      },
      "execution_count": 22,
      "outputs": []
    },
    {
      "cell_type": "code",
      "source": [
        "spark.sql(\"select * from rc_table_agg\").show(truncate=False)"
      ],
      "metadata": {
        "colab": {
          "base_uri": "https://localhost:8080/"
        },
        "id": "RhpKv2U1rnZX",
        "outputId": "0f5a18ca-dc46-4c21-f73f-95d9ef73c04b"
      },
      "execution_count": 28,
      "outputs": [
        {
          "output_type": "stream",
          "name": "stdout",
          "text": [
            "+------------------------------------------+----------+-----+\n",
            "|window                                    |type      |count|\n",
            "+------------------------------------------+----------+-----+\n",
            "|{2024-09-16 06:57:00, 2024-09-16 06:58:00}|categorize|3    |\n",
            "|{2024-09-16 07:05:00, 2024-09-16 07:06:00}|categorize|2    |\n",
            "|{2024-09-16 06:57:00, 2024-09-16 06:58:00}|edit      |1    |\n",
            "|{2024-09-16 07:05:00, 2024-09-16 07:06:00}|edit      |2    |\n",
            "+------------------------------------------+----------+-----+\n",
            "\n"
          ]
        }
      ]
    }
  ]
}