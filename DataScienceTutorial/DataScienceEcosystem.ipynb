{
 "cells": [
  {
   "cell_type": "markdown",
   "id": "78937c52-05ff-4803-8a6f-06f627be0f17",
   "metadata": {},
   "source": [
    "# Data Science Tools and Ecosystem"
   ]
  },
  {
   "cell_type": "markdown",
   "id": "f21cb3b4-edb5-4fb5-9d9e-4f206dc39afd",
   "metadata": {},
   "source": [
    "In this notebook, Data Science Tools and its Ecosystem are summarized."
   ]
  },
  {
   "cell_type": "markdown",
   "id": "aa405784-765d-4632-83b0-b56f34777f35",
   "metadata": {},
   "source": [
    "**Objectives:**  \n",
    "\n",
    "- Learning Markdown for documentation\n",
    "- Listing Data Science tools\n",
    "- Listing Packages used by Data Scientists\n",
    "- Writing code to evaluate expressions.\n",
    "\n",
    "## Author\n",
    "\n",
    "Pankaj Kumar Jha"
   ]
  },
  {
   "cell_type": "markdown",
   "id": "88a69bef-0e47-43cb-be84-3a3e1594df67",
   "metadata": {},
   "source": [
    "Some of the popular languages that Data Scientists use are:\n",
    "\n",
    "1. Python\n",
    "2. R\n",
    "3. Scala"
   ]
  },
  {
   "cell_type": "markdown",
   "id": "96b2cd72-f0c9-40be-83da-2836ef4695e7",
   "metadata": {},
   "source": [
    "Data Science Tools:\n",
    "\n",
    "- Rstudio\n",
    "- JuypterLab\n",
    "- Google Colab"
   ]
  },
  {
   "cell_type": "markdown",
   "id": "7b8d1634-6e05-41ee-9561-a0239d9290b2",
   "metadata": {},
   "source": [
    "Some of the commonly used libraries by Data Scientist include:\n",
    "\n",
    "1. GGplot\n",
    "2. Scikit-learn\n",
    "3. Caret"
   ]
  },
  {
   "cell_type": "markdown",
   "id": "cb76ba95-52aa-49ff-a3cb-2bc2a562a1fd",
   "metadata": {},
   "source": [
    "### Below are few example of evaluating arithmetic expressions in Python"
   ]
  },
  {
   "cell_type": "code",
   "execution_count": 2,
   "id": "48c897dd-b8a5-41f0-9d9d-a9b4a11d7854",
   "metadata": {
    "tags": []
   },
   "outputs": [
    {
     "name": "stdout",
     "output_type": "stream",
     "text": [
      "Result for (3*4)+5: 17\n"
     ]
    }
   ],
   "source": [
    "# This is a simple arithmetic expression to multiply then add integers\n",
    "result = (3*4)+5\n",
    "print(\"Result for (3*4)+5:\", result)"
   ]
  },
  {
   "cell_type": "code",
   "execution_count": 3,
   "id": "9faaeafe-299d-4426-a79e-be9f9e3c4c9b",
   "metadata": {
    "tags": []
   },
   "outputs": [
    {
     "name": "stdout",
     "output_type": "stream",
     "text": [
      "Value in hours: 3.3333333333333335\n"
     ]
    }
   ],
   "source": [
    "# This will convert 200 minutes to hours by dividing by 60\n",
    "value_in_minutes = 200\n",
    "value_in_hours = value_in_minutes/60\n",
    "print(\"Value in hours:\", value_in_hours)"
   ]
  }
 ],
 "metadata": {
  "kernelspec": {
   "display_name": "Python",
   "language": "python",
   "name": "conda-env-python-py"
  },
  "language_info": {
   "codemirror_mode": {
    "name": "ipython",
    "version": 3
   },
   "file_extension": ".py",
   "mimetype": "text/x-python",
   "name": "python",
   "nbconvert_exporter": "python",
   "pygments_lexer": "ipython3",
   "version": "3.7.12"
  }
 },
 "nbformat": 4,
 "nbformat_minor": 5
}
